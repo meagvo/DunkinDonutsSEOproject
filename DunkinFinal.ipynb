{
 "cells": [
  {
   "cell_type": "code",
   "execution_count": null,
   "metadata": {},
   "outputs": [],
   "source": []
  },
  {
   "cell_type": "markdown",
   "metadata": {},
   "source": [
    "# Data Wrangling - Dunkin SEO Project"
   ]
  },
  {
   "cell_type": "markdown",
   "metadata": {},
   "source": [
    "## Overview\n",
    "The marketing department (MD) at Dunkin donuts noticed that some of their keyword rankings have dropped over the past 6 months. Therefore, they are engaging in a new SEO program to focus on keywords that dropped to page two on Google. To do this, a predictive model will be developed using training data to predict the keywords that have the potential to drive the most traffic to the website. These keywords will then be focused on for a comprehensive SEO program for the next six months.\n",
    "\n",
    " The data science approach will be utilized to solve this business problem by applying a predictive model to the training data, which will include all keywords except page 2 rankings. Then the results will be applied to page 2 rankings to determine the best keywords to focus on. Success will be determined by improving keyword ranking to page one of google within one year.\n",
    " \n",
    " The Data Wrangling process will include the following steps:\n",
    " <ol><li>Loading the necessary packages</li>\n",
    "    <li>Load data</li>\n",
    "    <li> View data and metadata </li>\n",
    "    <li> Drop unnecessary columns </li></ol>\n"
   ]
  },
  {
   "cell_type": "code",
   "execution_count": null,
   "metadata": {},
   "outputs": [],
   "source": [
    "import pandas as pd\n",
    "import matplotlib.pyplot as plt\n",
    "import seaborn as sns\n",
    "import datetime\n",
    "import numpy as np"
   ]
  },
  {
   "cell_type": "code",
   "execution_count": 3,
   "metadata": {},
   "outputs": [],
   "source": [
    "# setup \n",
    "#sns.set_style(style=\"whitegrid\")\n",
    "sns.set_style('ticks')\n",
    "\n",
    "# display charts inline\n",
    "%matplotlib inline\n",
    "\n",
    "# to display all columns\n",
    "pd.set_option('display.max_columns', None)"
   ]
  },
  {
   "cell_type": "code",
   "execution_count": 4,
   "metadata": {},
   "outputs": [
    {
     "data": {
      "text/plain": [
       "Index(['Keyword', 'Position', 'Previous position', 'Search Volume',\n",
       "       'Keyword Difficulty', 'CPC', 'URL', 'Traffic', 'Traffic (%)',\n",
       "       'Traffic Cost', 'Competition', 'Number of Results', 'Trends',\n",
       "       'Timestamp', 'SERP Features by Keyword'],\n",
       "      dtype='object')"
      ]
     },
     "execution_count": 4,
     "metadata": {},
     "output_type": "execute_result"
    }
   ],
   "source": [
    "#load the data\n",
    "df=pd.read_csv('dunkin.csv')\n",
    "#look at the column names\n",
    "df.columns\n"
   ]
  },
  {
   "cell_type": "markdown",
   "metadata": {},
   "source": [
    "## First look at the data"
   ]
  },
  {
   "cell_type": "code",
   "execution_count": 5,
   "metadata": {},
   "outputs": [
    {
     "data": {
      "text/html": [
       "<div>\n",
       "<style scoped>\n",
       "    .dataframe tbody tr th:only-of-type {\n",
       "        vertical-align: middle;\n",
       "    }\n",
       "\n",
       "    .dataframe tbody tr th {\n",
       "        vertical-align: top;\n",
       "    }\n",
       "\n",
       "    .dataframe thead th {\n",
       "        text-align: right;\n",
       "    }\n",
       "</style>\n",
       "<table border=\"1\" class=\"dataframe\">\n",
       "  <thead>\n",
       "    <tr style=\"text-align: right;\">\n",
       "      <th></th>\n",
       "      <th>Keyword</th>\n",
       "      <th>Position</th>\n",
       "      <th>Previous position</th>\n",
       "      <th>Search Volume</th>\n",
       "      <th>Keyword Difficulty</th>\n",
       "      <th>CPC</th>\n",
       "      <th>URL</th>\n",
       "      <th>Traffic</th>\n",
       "      <th>Traffic (%)</th>\n",
       "      <th>Traffic Cost</th>\n",
       "      <th>Competition</th>\n",
       "      <th>Number of Results</th>\n",
       "      <th>Trends</th>\n",
       "      <th>Timestamp</th>\n",
       "      <th>SERP Features by Keyword</th>\n",
       "    </tr>\n",
       "  </thead>\n",
       "  <tbody>\n",
       "    <tr>\n",
       "      <th>0</th>\n",
       "      <td>dunkin donuts</td>\n",
       "      <td>1</td>\n",
       "      <td>1</td>\n",
       "      <td>2740000</td>\n",
       "      <td>88.99</td>\n",
       "      <td>2.24</td>\n",
       "      <td>https://www.dunkindonuts.com/</td>\n",
       "      <td>2192000</td>\n",
       "      <td>37.27</td>\n",
       "      <td>4910080</td>\n",
       "      <td>0.09</td>\n",
       "      <td>35000000</td>\n",
       "      <td>[55,45,45,45,45,55,45,45,55,55,82,100]</td>\n",
       "      <td>8/30/2020</td>\n",
       "      <td>Knowledge panel, Top stories, Image pack, Twee...</td>\n",
       "    </tr>\n",
       "    <tr>\n",
       "      <th>1</th>\n",
       "      <td>dunkin donuts near me</td>\n",
       "      <td>1</td>\n",
       "      <td>1</td>\n",
       "      <td>823000</td>\n",
       "      <td>83.58</td>\n",
       "      <td>2.32</td>\n",
       "      <td>https://www.dunkindonuts.com/en/locations</td>\n",
       "      <td>658400</td>\n",
       "      <td>11.19</td>\n",
       "      <td>1527488</td>\n",
       "      <td>0.01</td>\n",
       "      <td>85</td>\n",
       "      <td>[100,100,100,82,82,82,82,67,67,67,82,100]</td>\n",
       "      <td>8/30/2020</td>\n",
       "      <td>Local pack, Image pack, Site links, People als...</td>\n",
       "    </tr>\n",
       "    <tr>\n",
       "      <th>2</th>\n",
       "      <td>dunkin donuts menu</td>\n",
       "      <td>1</td>\n",
       "      <td>1</td>\n",
       "      <td>550000</td>\n",
       "      <td>86.33</td>\n",
       "      <td>1.78</td>\n",
       "      <td>https://www.dunkindonuts.com/en/menu</td>\n",
       "      <td>440000</td>\n",
       "      <td>7.48</td>\n",
       "      <td>783200</td>\n",
       "      <td>0.02</td>\n",
       "      <td>30200000</td>\n",
       "      <td>[55,55,55,67,67,55,55,55,55,67,82,100]</td>\n",
       "      <td>8/30/2020</td>\n",
       "      <td>Image pack, Video, FAQ</td>\n",
       "    </tr>\n",
       "    <tr>\n",
       "      <th>3</th>\n",
       "      <td>donuts</td>\n",
       "      <td>1</td>\n",
       "      <td>1</td>\n",
       "      <td>823000</td>\n",
       "      <td>81.85</td>\n",
       "      <td>1.54</td>\n",
       "      <td>https://www.dunkindonuts.com/</td>\n",
       "      <td>386810</td>\n",
       "      <td>6.57</td>\n",
       "      <td>595687</td>\n",
       "      <td>0.04</td>\n",
       "      <td>321000000</td>\n",
       "      <td>[82,82,82,82,82,67,82,82,67,67,82,100]</td>\n",
       "      <td>8/30/2020</td>\n",
       "      <td>Local pack, Top stories, Image pack, Site link...</td>\n",
       "    </tr>\n",
       "    <tr>\n",
       "      <th>4</th>\n",
       "      <td>dd</td>\n",
       "      <td>1</td>\n",
       "      <td>1</td>\n",
       "      <td>301000</td>\n",
       "      <td>84.47</td>\n",
       "      <td>2.53</td>\n",
       "      <td>https://www.dunkindonuts.com/</td>\n",
       "      <td>240800</td>\n",
       "      <td>4.09</td>\n",
       "      <td>609224</td>\n",
       "      <td>0.02</td>\n",
       "      <td>871000000</td>\n",
       "      <td>[67,67,55,55,55,67,55,55,67,67,100,82]</td>\n",
       "      <td>8/30/2020</td>\n",
       "      <td>Knowledge panel, Video Carousel, People also ask</td>\n",
       "    </tr>\n",
       "  </tbody>\n",
       "</table>\n",
       "</div>"
      ],
      "text/plain": [
       "                 Keyword  Position  Previous position  Search Volume  \\\n",
       "0          dunkin donuts         1                  1        2740000   \n",
       "1  dunkin donuts near me         1                  1         823000   \n",
       "2     dunkin donuts menu         1                  1         550000   \n",
       "3                 donuts         1                  1         823000   \n",
       "4                     dd         1                  1         301000   \n",
       "\n",
       "   Keyword Difficulty   CPC                                        URL  \\\n",
       "0               88.99  2.24              https://www.dunkindonuts.com/   \n",
       "1               83.58  2.32  https://www.dunkindonuts.com/en/locations   \n",
       "2               86.33  1.78       https://www.dunkindonuts.com/en/menu   \n",
       "3               81.85  1.54              https://www.dunkindonuts.com/   \n",
       "4               84.47  2.53              https://www.dunkindonuts.com/   \n",
       "\n",
       "   Traffic  Traffic (%)  Traffic Cost  Competition  Number of Results  \\\n",
       "0  2192000        37.27       4910080         0.09           35000000   \n",
       "1   658400        11.19       1527488         0.01                 85   \n",
       "2   440000         7.48        783200         0.02           30200000   \n",
       "3   386810         6.57        595687         0.04          321000000   \n",
       "4   240800         4.09        609224         0.02          871000000   \n",
       "\n",
       "                                      Trends  Timestamp  \\\n",
       "0     [55,45,45,45,45,55,45,45,55,55,82,100]  8/30/2020   \n",
       "1  [100,100,100,82,82,82,82,67,67,67,82,100]  8/30/2020   \n",
       "2     [55,55,55,67,67,55,55,55,55,67,82,100]  8/30/2020   \n",
       "3     [82,82,82,82,82,67,82,82,67,67,82,100]  8/30/2020   \n",
       "4     [67,67,55,55,55,67,55,55,67,67,100,82]  8/30/2020   \n",
       "\n",
       "                            SERP Features by Keyword  \n",
       "0  Knowledge panel, Top stories, Image pack, Twee...  \n",
       "1  Local pack, Image pack, Site links, People als...  \n",
       "2                             Image pack, Video, FAQ  \n",
       "3  Local pack, Top stories, Image pack, Site link...  \n",
       "4   Knowledge panel, Video Carousel, People also ask  "
      ]
     },
     "execution_count": 5,
     "metadata": {},
     "output_type": "execute_result"
    }
   ],
   "source": [
    "df.head()"
   ]
  },
  {
   "cell_type": "code",
   "execution_count": 6,
   "metadata": {},
   "outputs": [
    {
     "name": "stdout",
     "output_type": "stream",
     "text": [
      "<class 'pandas.core.frame.DataFrame'>\n",
      "RangeIndex: 10000 entries, 0 to 9999\n",
      "Data columns (total 15 columns):\n",
      " #   Column                    Non-Null Count  Dtype  \n",
      "---  ------                    --------------  -----  \n",
      " 0   Keyword                   10000 non-null  object \n",
      " 1   Position                  10000 non-null  int64  \n",
      " 2   Previous position         10000 non-null  int64  \n",
      " 3   Search Volume             10000 non-null  int64  \n",
      " 4   Keyword Difficulty        10000 non-null  float64\n",
      " 5   CPC                       10000 non-null  float64\n",
      " 6   URL                       10000 non-null  object \n",
      " 7   Traffic                   10000 non-null  int64  \n",
      " 8   Traffic (%)               10000 non-null  float64\n",
      " 9   Traffic Cost              10000 non-null  int64  \n",
      " 10  Competition               10000 non-null  float64\n",
      " 11  Number of Results         10000 non-null  int64  \n",
      " 12  Trends                    10000 non-null  object \n",
      " 13  Timestamp                 10000 non-null  object \n",
      " 14  SERP Features by Keyword  9962 non-null   object \n",
      "dtypes: float64(4), int64(6), object(5)\n",
      "memory usage: 1.1+ MB\n"
     ]
    }
   ],
   "source": [
    "#metadata 15 columns 10000 records\n",
    "\n",
    "df.info()\n",
    "#missing data for SERP Features by Keyword, but this column will be dropped because it isn't relevant for the analysis"
   ]
  },
  {
   "cell_type": "markdown",
   "metadata": {},
   "source": [
    "## Dropping Unecessary Columns"
   ]
  },
  {
   "cell_type": "markdown",
   "metadata": {},
   "source": [
    "We are interested in most of the column values, but there are a few that will not help with the present analysis. Therefore, we will drop the following two columns:\n",
    "<li> Trends </li>\n",
    "<li> SERP Features by Keyword</li>\n"
   ]
  },
  {
   "cell_type": "code",
   "execution_count": 8,
   "metadata": {},
   "outputs": [],
   "source": [
    "#drop two columns\n",
    "df.drop(df[['Trends', 'SERP Features by Keyword']], inplace=True, axis=1)\n"
   ]
  },
  {
   "cell_type": "code",
   "execution_count": 9,
   "metadata": {},
   "outputs": [
    {
     "data": {
      "text/plain": [
       "Index(['Keyword', 'Position', 'Previous position', 'Search Volume',\n",
       "       'Keyword Difficulty', 'CPC', 'URL', 'Traffic', 'Traffic (%)',\n",
       "       'Traffic Cost', 'Competition', 'Number of Results', 'Timestamp'],\n",
       "      dtype='object')"
      ]
     },
     "execution_count": 9,
     "metadata": {},
     "output_type": "execute_result"
    }
   ],
   "source": [
    "df.columns"
   ]
  },
  {
   "cell_type": "code",
   "execution_count": 11,
   "metadata": {},
   "outputs": [
    {
     "name": "stdout",
     "output_type": "stream",
     "text": [
      "<class 'pandas.core.frame.DataFrame'>\n",
      "RangeIndex: 10000 entries, 0 to 9999\n",
      "Data columns (total 13 columns):\n",
      " #   Column              Non-Null Count  Dtype  \n",
      "---  ------              --------------  -----  \n",
      " 0   Keyword             10000 non-null  object \n",
      " 1   Position            10000 non-null  int64  \n",
      " 2   Previous position   10000 non-null  int64  \n",
      " 3   Search Volume       10000 non-null  int64  \n",
      " 4   Keyword Difficulty  10000 non-null  float64\n",
      " 5   CPC                 10000 non-null  float64\n",
      " 6   URL                 10000 non-null  object \n",
      " 7   Traffic             10000 non-null  int64  \n",
      " 8   Traffic (%)         10000 non-null  float64\n",
      " 9   Traffic Cost        10000 non-null  int64  \n",
      " 10  Competition         10000 non-null  float64\n",
      " 11  Number of Results   10000 non-null  int64  \n",
      " 12  Timestamp           10000 non-null  object \n",
      "dtypes: float64(4), int64(6), object(3)\n",
      "memory usage: 1015.8+ KB\n"
     ]
    }
   ],
   "source": [
    "#no more missing data\n",
    "df.info()"
   ]
  },
  {
   "cell_type": "code",
   "execution_count": 14,
   "metadata": {},
   "outputs": [],
   "source": [
    "#save the updated data\n",
    "\n",
    "# checkpoint 3\n",
    "checkpoint_3_df = df.copy()\n",
    "checkpoint_3_df.to_csv('dunkindataclean.csv')"
   ]
  },
  {
   "cell_type": "code",
   "execution_count": null,
   "metadata": {},
   "outputs": [],
   "source": []
  },
  {
   "cell_type": "markdown",
   "metadata": {},
   "source": [
    "## Exploratory Data Analysis - Dunkin SEO Project"
   ]
  },
  {
   "cell_type": "code",
   "execution_count": 33,
   "metadata": {},
   "outputs": [
    {
     "data": {
      "text/html": [
       "        <script type=\"text/javascript\">\n",
       "        window.PlotlyConfig = {MathJaxConfig: 'local'};\n",
       "        if (window.MathJax) {MathJax.Hub.Config({SVG: {font: \"STIX-Web\"}});}\n",
       "        if (typeof require !== 'undefined') {\n",
       "        require.undef(\"plotly\");\n",
       "        requirejs.config({\n",
       "            paths: {\n",
       "                'plotly': ['https://cdn.plot.ly/plotly-latest.min']\n",
       "            }\n",
       "        });\n",
       "        require(['plotly'], function(Plotly) {\n",
       "            window._Plotly = Plotly;\n",
       "        });\n",
       "        }\n",
       "        </script>\n",
       "        "
      ]
     },
     "metadata": {},
     "output_type": "display_data"
    }
   ],
   "source": [
    "# import necessary libraries\n",
    "import numpy as np\n",
    "import pandas as pd\n",
    "import matplotlib.pyplot as plt\n",
    "import seaborn as sns\n",
    "import datetime, calendar\n",
    "import plotly\n",
    "import plotly.graph_objs as go\n",
    "\n",
    "# setup \n",
    "plotly.offline.init_notebook_mode(connected=True)\n",
    "#sns.set_style(style=\"whitegrid\")\n",
    "sns.set_style('ticks')\n",
    "sns.set_palette('bright')\n",
    "\n",
    "# display charts inline\n",
    "%matplotlib inline\n",
    "\n",
    "# to display all columns\n",
    "pd.set_option('display.max_columns', None)\n",
    "pd.set_option('display.max_rows', 10)\n",
    "plt.rcParams[\"figure.figsize\"] = (10,10)"
   ]
  },
  {
   "cell_type": "markdown",
   "metadata": {},
   "source": [
    "## Let's take a look at the data"
   ]
  },
  {
   "cell_type": "code",
   "execution_count": 15,
   "metadata": {},
   "outputs": [
    {
     "data": {
      "text/html": [
       "<div>\n",
       "<style scoped>\n",
       "    .dataframe tbody tr th:only-of-type {\n",
       "        vertical-align: middle;\n",
       "    }\n",
       "\n",
       "    .dataframe tbody tr th {\n",
       "        vertical-align: top;\n",
       "    }\n",
       "\n",
       "    .dataframe thead th {\n",
       "        text-align: right;\n",
       "    }\n",
       "</style>\n",
       "<table border=\"1\" class=\"dataframe\">\n",
       "  <thead>\n",
       "    <tr style=\"text-align: right;\">\n",
       "      <th></th>\n",
       "      <th>Unnamed: 0</th>\n",
       "      <th>Keyword</th>\n",
       "      <th>Position</th>\n",
       "      <th>Previous position</th>\n",
       "      <th>Search Volume</th>\n",
       "      <th>Keyword Difficulty</th>\n",
       "      <th>CPC</th>\n",
       "      <th>URL</th>\n",
       "      <th>Traffic</th>\n",
       "      <th>Traffic (%)</th>\n",
       "      <th>Traffic Cost</th>\n",
       "      <th>Competition</th>\n",
       "      <th>Number of Results</th>\n",
       "      <th>Timestamp</th>\n",
       "    </tr>\n",
       "  </thead>\n",
       "  <tbody>\n",
       "    <tr>\n",
       "      <th>0</th>\n",
       "      <td>0</td>\n",
       "      <td>dunkin donuts</td>\n",
       "      <td>1</td>\n",
       "      <td>1</td>\n",
       "      <td>2740000</td>\n",
       "      <td>88.99</td>\n",
       "      <td>2.24</td>\n",
       "      <td>https://www.dunkindonuts.com/</td>\n",
       "      <td>2192000</td>\n",
       "      <td>37.27</td>\n",
       "      <td>4910080</td>\n",
       "      <td>0.09</td>\n",
       "      <td>35000000</td>\n",
       "      <td>8/30/2020</td>\n",
       "    </tr>\n",
       "    <tr>\n",
       "      <th>1</th>\n",
       "      <td>1</td>\n",
       "      <td>dunkin donuts near me</td>\n",
       "      <td>1</td>\n",
       "      <td>1</td>\n",
       "      <td>823000</td>\n",
       "      <td>83.58</td>\n",
       "      <td>2.32</td>\n",
       "      <td>https://www.dunkindonuts.com/en/locations</td>\n",
       "      <td>658400</td>\n",
       "      <td>11.19</td>\n",
       "      <td>1527488</td>\n",
       "      <td>0.01</td>\n",
       "      <td>85</td>\n",
       "      <td>8/30/2020</td>\n",
       "    </tr>\n",
       "    <tr>\n",
       "      <th>2</th>\n",
       "      <td>2</td>\n",
       "      <td>dunkin donuts menu</td>\n",
       "      <td>1</td>\n",
       "      <td>1</td>\n",
       "      <td>550000</td>\n",
       "      <td>86.33</td>\n",
       "      <td>1.78</td>\n",
       "      <td>https://www.dunkindonuts.com/en/menu</td>\n",
       "      <td>440000</td>\n",
       "      <td>7.48</td>\n",
       "      <td>783200</td>\n",
       "      <td>0.02</td>\n",
       "      <td>30200000</td>\n",
       "      <td>8/30/2020</td>\n",
       "    </tr>\n",
       "    <tr>\n",
       "      <th>3</th>\n",
       "      <td>3</td>\n",
       "      <td>donuts</td>\n",
       "      <td>1</td>\n",
       "      <td>1</td>\n",
       "      <td>823000</td>\n",
       "      <td>81.85</td>\n",
       "      <td>1.54</td>\n",
       "      <td>https://www.dunkindonuts.com/</td>\n",
       "      <td>386810</td>\n",
       "      <td>6.57</td>\n",
       "      <td>595687</td>\n",
       "      <td>0.04</td>\n",
       "      <td>321000000</td>\n",
       "      <td>8/30/2020</td>\n",
       "    </tr>\n",
       "    <tr>\n",
       "      <th>4</th>\n",
       "      <td>4</td>\n",
       "      <td>dd</td>\n",
       "      <td>1</td>\n",
       "      <td>1</td>\n",
       "      <td>301000</td>\n",
       "      <td>84.47</td>\n",
       "      <td>2.53</td>\n",
       "      <td>https://www.dunkindonuts.com/</td>\n",
       "      <td>240800</td>\n",
       "      <td>4.09</td>\n",
       "      <td>609224</td>\n",
       "      <td>0.02</td>\n",
       "      <td>871000000</td>\n",
       "      <td>8/30/2020</td>\n",
       "    </tr>\n",
       "    <tr>\n",
       "      <th>...</th>\n",
       "      <td>...</td>\n",
       "      <td>...</td>\n",
       "      <td>...</td>\n",
       "      <td>...</td>\n",
       "      <td>...</td>\n",
       "      <td>...</td>\n",
       "      <td>...</td>\n",
       "      <td>...</td>\n",
       "      <td>...</td>\n",
       "      <td>...</td>\n",
       "      <td>...</td>\n",
       "      <td>...</td>\n",
       "      <td>...</td>\n",
       "      <td>...</td>\n",
       "    </tr>\n",
       "    <tr>\n",
       "      <th>45</th>\n",
       "      <td>45</td>\n",
       "      <td>what time does dunkin donuts close</td>\n",
       "      <td>1</td>\n",
       "      <td>1</td>\n",
       "      <td>8100</td>\n",
       "      <td>86.64</td>\n",
       "      <td>0.00</td>\n",
       "      <td>https://www.dunkindonuts.com/en/locations</td>\n",
       "      <td>6480</td>\n",
       "      <td>0.11</td>\n",
       "      <td>0</td>\n",
       "      <td>0.00</td>\n",
       "      <td>37900000</td>\n",
       "      <td>8/30/2020</td>\n",
       "    </tr>\n",
       "    <tr>\n",
       "      <th>46</th>\n",
       "      <td>46</td>\n",
       "      <td>24 hour dunkin donuts</td>\n",
       "      <td>1</td>\n",
       "      <td>1</td>\n",
       "      <td>6600</td>\n",
       "      <td>86.08</td>\n",
       "      <td>0.00</td>\n",
       "      <td>https://www.dunkindonuts.com/en/locations</td>\n",
       "      <td>5280</td>\n",
       "      <td>0.08</td>\n",
       "      <td>0</td>\n",
       "      <td>0.00</td>\n",
       "      <td>6380000</td>\n",
       "      <td>8/30/2020</td>\n",
       "    </tr>\n",
       "    <tr>\n",
       "      <th>47</th>\n",
       "      <td>47</td>\n",
       "      <td>dunkin donuts order online</td>\n",
       "      <td>1</td>\n",
       "      <td>5</td>\n",
       "      <td>6600</td>\n",
       "      <td>82.35</td>\n",
       "      <td>2.49</td>\n",
       "      <td>https://news.dunkindonuts.com/news/dunkin-donu...</td>\n",
       "      <td>5280</td>\n",
       "      <td>0.08</td>\n",
       "      <td>13147</td>\n",
       "      <td>0.23</td>\n",
       "      <td>17300000</td>\n",
       "      <td>8/30/2020</td>\n",
       "    </tr>\n",
       "    <tr>\n",
       "      <th>48</th>\n",
       "      <td>48</td>\n",
       "      <td>dunkin donuts open near me</td>\n",
       "      <td>1</td>\n",
       "      <td>1</td>\n",
       "      <td>6600</td>\n",
       "      <td>86.53</td>\n",
       "      <td>0.00</td>\n",
       "      <td>https://www.dunkindonuts.com/en/locations</td>\n",
       "      <td>5280</td>\n",
       "      <td>0.08</td>\n",
       "      <td>0</td>\n",
       "      <td>0.00</td>\n",
       "      <td>29300000</td>\n",
       "      <td>8/30/2020</td>\n",
       "    </tr>\n",
       "    <tr>\n",
       "      <th>49</th>\n",
       "      <td>49</td>\n",
       "      <td>dunkin donuts breakfast menu</td>\n",
       "      <td>1</td>\n",
       "      <td>1</td>\n",
       "      <td>6600</td>\n",
       "      <td>83.68</td>\n",
       "      <td>1.98</td>\n",
       "      <td>https://www.dunkindonuts.com/en/menu/sandwiche...</td>\n",
       "      <td>5280</td>\n",
       "      <td>0.08</td>\n",
       "      <td>10454</td>\n",
       "      <td>0.18</td>\n",
       "      <td>0</td>\n",
       "      <td>8/30/2020</td>\n",
       "    </tr>\n",
       "  </tbody>\n",
       "</table>\n",
       "<p>50 rows � 14 columns</p>\n",
       "</div>"
      ],
      "text/plain": [
       "    Unnamed: 0                             Keyword  Position  \\\n",
       "0            0                       dunkin donuts         1   \n",
       "1            1               dunkin donuts near me         1   \n",
       "2            2                  dunkin donuts menu         1   \n",
       "3            3                              donuts         1   \n",
       "4            4                                  dd         1   \n",
       "..         ...                                 ...       ...   \n",
       "45          45  what time does dunkin donuts close         1   \n",
       "46          46               24 hour dunkin donuts         1   \n",
       "47          47          dunkin donuts order online         1   \n",
       "48          48          dunkin donuts open near me         1   \n",
       "49          49        dunkin donuts breakfast menu         1   \n",
       "\n",
       "    Previous position  Search Volume  Keyword Difficulty   CPC  \\\n",
       "0                   1        2740000               88.99  2.24   \n",
       "1                   1         823000               83.58  2.32   \n",
       "2                   1         550000               86.33  1.78   \n",
       "3                   1         823000               81.85  1.54   \n",
       "4                   1         301000               84.47  2.53   \n",
       "..                ...            ...                 ...   ...   \n",
       "45                  1           8100               86.64  0.00   \n",
       "46                  1           6600               86.08  0.00   \n",
       "47                  5           6600               82.35  2.49   \n",
       "48                  1           6600               86.53  0.00   \n",
       "49                  1           6600               83.68  1.98   \n",
       "\n",
       "                                                  URL  Traffic  Traffic (%)  \\\n",
       "0                       https://www.dunkindonuts.com/  2192000        37.27   \n",
       "1           https://www.dunkindonuts.com/en/locations   658400        11.19   \n",
       "2                https://www.dunkindonuts.com/en/menu   440000         7.48   \n",
       "3                       https://www.dunkindonuts.com/   386810         6.57   \n",
       "4                       https://www.dunkindonuts.com/   240800         4.09   \n",
       "..                                                ...      ...          ...   \n",
       "45          https://www.dunkindonuts.com/en/locations     6480         0.11   \n",
       "46          https://www.dunkindonuts.com/en/locations     5280         0.08   \n",
       "47  https://news.dunkindonuts.com/news/dunkin-donu...     5280         0.08   \n",
       "48          https://www.dunkindonuts.com/en/locations     5280         0.08   \n",
       "49  https://www.dunkindonuts.com/en/menu/sandwiche...     5280         0.08   \n",
       "\n",
       "    Traffic Cost  Competition  Number of Results  Timestamp  \n",
       "0        4910080         0.09           35000000  8/30/2020  \n",
       "1        1527488         0.01                 85  8/30/2020  \n",
       "2         783200         0.02           30200000  8/30/2020  \n",
       "3         595687         0.04          321000000  8/30/2020  \n",
       "4         609224         0.02          871000000  8/30/2020  \n",
       "..           ...          ...                ...        ...  \n",
       "45             0         0.00           37900000  8/30/2020  \n",
       "46             0         0.00            6380000  8/30/2020  \n",
       "47         13147         0.23           17300000  8/30/2020  \n",
       "48             0         0.00           29300000  8/30/2020  \n",
       "49         10454         0.18                  0  8/30/2020  \n",
       "\n",
       "[50 rows x 14 columns]"
      ]
     },
     "execution_count": 15,
     "metadata": {},
     "output_type": "execute_result"
    }
   ],
   "source": [
    "\n",
    "#load clean data\n",
    "\n",
    "df=pd.read_csv('dunkindataclean.csv')\n",
    "df.head(50)"
   ]
  },
  {
   "cell_type": "code",
   "execution_count": 7,
   "metadata": {},
   "outputs": [
    {
     "name": "stdout",
     "output_type": "stream",
     "text": [
      "<class 'pandas.core.frame.DataFrame'>\n",
      "RangeIndex: 10000 entries, 0 to 9999\n",
      "Data columns (total 14 columns):\n",
      " #   Column              Non-Null Count  Dtype  \n",
      "---  ------              --------------  -----  \n",
      " 0   Unnamed: 0          10000 non-null  int64  \n",
      " 1   Keyword             10000 non-null  object \n",
      " 2   Position            10000 non-null  int64  \n",
      " 3   Previous position   10000 non-null  int64  \n",
      " 4   Search Volume       10000 non-null  int64  \n",
      " 5   Keyword Difficulty  10000 non-null  float64\n",
      " 6   CPC                 10000 non-null  float64\n",
      " 7   URL                 10000 non-null  object \n",
      " 8   Traffic             10000 non-null  int64  \n",
      " 9   Traffic (%)         10000 non-null  float64\n",
      " 10  Traffic Cost        10000 non-null  int64  \n",
      " 11  Competition         10000 non-null  float64\n",
      " 12  Number of Results   10000 non-null  int64  \n",
      " 13  Timestamp           10000 non-null  object \n",
      "dtypes: float64(4), int64(7), object(3)\n",
      "memory usage: 1.1+ MB\n"
     ]
    }
   ],
   "source": [
    "df.info()"
   ]
  },
  {
   "cell_type": "code",
   "execution_count": 53,
   "metadata": {},
   "outputs": [
    {
     "data": {
      "text/html": [
       "<div>\n",
       "<style scoped>\n",
       "    .dataframe tbody tr th:only-of-type {\n",
       "        vertical-align: middle;\n",
       "    }\n",
       "\n",
       "    .dataframe tbody tr th {\n",
       "        vertical-align: top;\n",
       "    }\n",
       "\n",
       "    .dataframe thead th {\n",
       "        text-align: right;\n",
       "    }\n",
       "</style>\n",
       "<table border=\"1\" class=\"dataframe\">\n",
       "  <thead>\n",
       "    <tr style=\"text-align: right;\">\n",
       "      <th></th>\n",
       "      <th>count</th>\n",
       "      <th>mean</th>\n",
       "      <th>std</th>\n",
       "      <th>min</th>\n",
       "      <th>25%</th>\n",
       "      <th>50%</th>\n",
       "      <th>75%</th>\n",
       "      <th>max</th>\n",
       "    </tr>\n",
       "  </thead>\n",
       "  <tbody>\n",
       "    <tr>\n",
       "      <th>Unnamed: 0</th>\n",
       "      <td>10000.0</td>\n",
       "      <td>4.999500e+03</td>\n",
       "      <td>2.886896e+03</td>\n",
       "      <td>0.00</td>\n",
       "      <td>2499.7500</td>\n",
       "      <td>4999.500</td>\n",
       "      <td>7499.25</td>\n",
       "      <td>9.999000e+03</td>\n",
       "    </tr>\n",
       "    <tr>\n",
       "      <th>Position</th>\n",
       "      <td>10000.0</td>\n",
       "      <td>5.187130e+01</td>\n",
       "      <td>3.297794e+01</td>\n",
       "      <td>1.00</td>\n",
       "      <td>20.0000</td>\n",
       "      <td>59.000</td>\n",
       "      <td>81.00</td>\n",
       "      <td>1.000000e+02</td>\n",
       "    </tr>\n",
       "    <tr>\n",
       "      <th>Previous position</th>\n",
       "      <td>10000.0</td>\n",
       "      <td>5.082950e+01</td>\n",
       "      <td>3.340215e+01</td>\n",
       "      <td>0.00</td>\n",
       "      <td>17.0000</td>\n",
       "      <td>57.000</td>\n",
       "      <td>81.00</td>\n",
       "      <td>1.000000e+02</td>\n",
       "    </tr>\n",
       "    <tr>\n",
       "      <th>Search Volume</th>\n",
       "      <td>10000.0</td>\n",
       "      <td>2.356532e+03</td>\n",
       "      <td>5.430127e+04</td>\n",
       "      <td>20.00</td>\n",
       "      <td>30.0000</td>\n",
       "      <td>50.000</td>\n",
       "      <td>140.00</td>\n",
       "      <td>2.740000e+06</td>\n",
       "    </tr>\n",
       "    <tr>\n",
       "      <th>Keyword Difficulty</th>\n",
       "      <td>10000.0</td>\n",
       "      <td>8.089932e+01</td>\n",
       "      <td>7.046178e+00</td>\n",
       "      <td>31.91</td>\n",
       "      <td>77.2175</td>\n",
       "      <td>82.165</td>\n",
       "      <td>85.86</td>\n",
       "      <td>9.993000e+01</td>\n",
       "    </tr>\n",
       "    <tr>\n",
       "      <th>CPC</th>\n",
       "      <td>10000.0</td>\n",
       "      <td>5.497260e-01</td>\n",
       "      <td>3.874393e+00</td>\n",
       "      <td>0.00</td>\n",
       "      <td>0.0000</td>\n",
       "      <td>0.000</td>\n",
       "      <td>0.00</td>\n",
       "      <td>3.356900e+02</td>\n",
       "    </tr>\n",
       "    <tr>\n",
       "      <th>Traffic</th>\n",
       "      <td>10000.0</td>\n",
       "      <td>5.308406e+02</td>\n",
       "      <td>2.386606e+04</td>\n",
       "      <td>0.00</td>\n",
       "      <td>0.0000</td>\n",
       "      <td>0.000</td>\n",
       "      <td>0.00</td>\n",
       "      <td>2.192000e+06</td>\n",
       "    </tr>\n",
       "    <tr>\n",
       "      <th>Competition</th>\n",
       "      <td>10000.0</td>\n",
       "      <td>1.378440e-01</td>\n",
       "      <td>2.698258e-01</td>\n",
       "      <td>0.00</td>\n",
       "      <td>0.0000</td>\n",
       "      <td>0.010</td>\n",
       "      <td>0.11</td>\n",
       "      <td>1.000000e+00</td>\n",
       "    </tr>\n",
       "    <tr>\n",
       "      <th>Number of Results</th>\n",
       "      <td>10000.0</td>\n",
       "      <td>3.259758e+08</td>\n",
       "      <td>1.429064e+09</td>\n",
       "      <td>0.00</td>\n",
       "      <td>91.0000</td>\n",
       "      <td>1465000.000</td>\n",
       "      <td>31300000.00</td>\n",
       "      <td>2.527000e+10</td>\n",
       "    </tr>\n",
       "  </tbody>\n",
       "</table>\n",
       "</div>"
      ],
      "text/plain": [
       "                      count          mean           std    min        25%  \\\n",
       "Unnamed: 0          10000.0  4.999500e+03  2.886896e+03   0.00  2499.7500   \n",
       "Position            10000.0  5.187130e+01  3.297794e+01   1.00    20.0000   \n",
       "Previous position   10000.0  5.082950e+01  3.340215e+01   0.00    17.0000   \n",
       "Search Volume       10000.0  2.356532e+03  5.430127e+04  20.00    30.0000   \n",
       "Keyword Difficulty  10000.0  8.089932e+01  7.046178e+00  31.91    77.2175   \n",
       "CPC                 10000.0  5.497260e-01  3.874393e+00   0.00     0.0000   \n",
       "Traffic             10000.0  5.308406e+02  2.386606e+04   0.00     0.0000   \n",
       "Competition         10000.0  1.378440e-01  2.698258e-01   0.00     0.0000   \n",
       "Number of Results   10000.0  3.259758e+08  1.429064e+09   0.00    91.0000   \n",
       "\n",
       "                            50%          75%           max  \n",
       "Unnamed: 0             4999.500      7499.25  9.999000e+03  \n",
       "Position                 59.000        81.00  1.000000e+02  \n",
       "Previous position        57.000        81.00  1.000000e+02  \n",
       "Search Volume            50.000       140.00  2.740000e+06  \n",
       "Keyword Difficulty       82.165        85.86  9.993000e+01  \n",
       "CPC                       0.000         0.00  3.356900e+02  \n",
       "Traffic                   0.000         0.00  2.192000e+06  \n",
       "Competition               0.010         0.11  1.000000e+00  \n",
       "Number of Results   1465000.000  31300000.00  2.527000e+10  "
      ]
     },
     "execution_count": 53,
     "metadata": {},
     "output_type": "execute_result"
    }
   ],
   "source": [
    "df.describe().T"
   ]
  },
  {
   "cell_type": "markdown",
   "metadata": {},
   "source": [
    "\n",
    "The data has 10K rows and 13 columns. 3 are categorical and 10 are numeric.\n",
    "There are no null values.\n",
    "'Position' is the target variable."
   ]
  },
  {
   "cell_type": "markdown",
   "metadata": {},
   "source": [
    "## Visualize the data: Scatterplots"
   ]
  },
  {
   "cell_type": "code",
   "execution_count": 34,
   "metadata": {},
   "outputs": [
    {
     "data": {
      "image/png": "[encoded data removed]",
      "text/plain": [
       "<Figure size 720x720 with 1 Axes>"
      ]
     },
     "metadata": {
      "needs_background": "light"
     },
     "output_type": "display_data"
    }
   ],
   "source": [
    "plt.scatter(df['Position'], df['Previous position'])\n",
    "plt.title(\"Position vs. Previous Position\")\n",
    "plt.xlabel('Position')\n",
    "plt.ylabel(\"Previous Position\")\n",
    "plt.show()"
   ]
  },
  {
   "cell_type": "markdown",
   "metadata": {},
   "source": [
    "From the scatterplot it is clear that most of the positions are correlated with the previous position, meaning that they are stable. However, there are some that look like they are ranking at 0, which doesn't make sense. That must mean they don't rank in the first 100 positions. Therefore, we want to focus on the first two SERPs."
   ]
  },
  {
   "cell_type": "markdown",
   "metadata": {},
   "source": [
    "## Let's visualize the keywords/pages that rank on the first 2 pages of Google. \n",
    "These are all very closely correlated."
   ]
  },
  {
   "cell_type": "code",
   "execution_count": 35,
   "metadata": {},
   "outputs": [
    {
     "data": {
      "image/png": "[encoded data removed]",
      "text/plain": [
       "<Figure size 720x720 with 1 Axes>"
      ]
     },
     "metadata": {
      "needs_background": "light"
     },
     "output_type": "display_data"
    }
   ],
   "source": [
    "plt.scatter(df['Position'], df['Previous position'])\n",
    "plt.title(\"Position vs. Previous Position\")\n",
    "plt.xlabel('Position')\n",
    "plt.ylabel(\"Previous Position\")\n",
    "plt.xlim(1, 20,)\n",
    "plt.ylim(1, 20)\n",
    "plt.show()"
   ]
  },
  {
   "cell_type": "raw",
   "metadata": {},
   "source": []
  },
  {
   "cell_type": "code",
   "execution_count": 36,
   "metadata": {},
   "outputs": [
    {
     "data": {
      "image/png": "[encoded data removed]",
      "text/plain": [
       "<Figure size 720x720 with 1 Axes>"
      ]
     },
     "metadata": {
      "needs_background": "light"
     },
     "output_type": "display_data"
    }
   ],
   "source": [
    "plt.scatter(df['Search Volume'], df['Traffic (%)'])\n",
    "plt.title(\"Search Volume vs. Traffic %\")\n",
    "plt.xlabel('Search Volume')\n",
    "plt.ylabel(\"Traffic %\")\n",
    "plt.show()"
   ]
  },
  {
   "cell_type": "code",
   "execution_count": 37,
   "metadata": {},
   "outputs": [
    {
     "data": {
      "text/plain": [
       "{'whiskers': [<matplotlib.lines.Line2D at 0x1d05f66c408>,\n",
       "  <matplotlib.lines.Line2D at 0x1d05f66c208>],\n",
       " 'caps': [<matplotlib.lines.Line2D at 0x1d05f680f08>,\n",
       "  <matplotlib.lines.Line2D at 0x1d05f6343c8>],\n",
       " 'boxes': [<matplotlib.lines.Line2D at 0x1d05f6618c8>],\n",
       " 'medians': [<matplotlib.lines.Line2D at 0x1d05f634288>],\n",
       " 'fliers': [<matplotlib.lines.Line2D at 0x1d05f64fa08>],\n",
       " 'means': []}"
      ]
     },
     "execution_count": 37,
     "metadata": {},
     "output_type": "execute_result"
    },
    {
     "data": {
      "image/png": "[encoded data removed]",
      "text/plain": [
       "<Figure size 720x720 with 1 Axes>"
      ]
     },
     "metadata": {
      "needs_background": "light"
     },
     "output_type": "display_data"
    }
   ],
   "source": [
    "plt.boxplot(df['Search Volume'])"
   ]
  },
  {
   "cell_type": "markdown",
   "metadata": {},
   "source": [
    "As we can see, most of the keywords have very low search volume, but those that have a high search volume are drastically higher."
   ]
  },
  {
   "cell_type": "code",
   "execution_count": 38,
   "metadata": {},
   "outputs": [
    {
     "data": {
      "text/plain": [
       "{'whiskers': [<matplotlib.lines.Line2D at 0x1d05f61e8c8>,\n",
       "  <matplotlib.lines.Line2D at 0x1d05f61e9c8>],\n",
       " 'caps': [<matplotlib.lines.Line2D at 0x1d05f422f08>,\n",
       "  <matplotlib.lines.Line2D at 0x1d05f422508>],\n",
       " 'boxes': [<matplotlib.lines.Line2D at 0x1d05f61ec08>],\n",
       " 'medians': [<matplotlib.lines.Line2D at 0x1d05f618a88>],\n",
       " 'fliers': [<matplotlib.lines.Line2D at 0x1d05f618648>],\n",
       " 'means': []}"
      ]
     },
     "execution_count": 38,
     "metadata": {},
     "output_type": "execute_result"
    },
    {
     "data": {
      "image/png": "[encoded data removed]",
      "text/plain": [
       "<Figure size 720x720 with 1 Axes>"
      ]
     },
     "metadata": {
      "needs_background": "light"
     },
     "output_type": "display_data"
    }
   ],
   "source": [
    "plt.boxplot(df['Keyword Difficulty'])"
   ]
  },
  {
   "cell_type": "markdown",
   "metadata": {},
   "source": [
    "Most of the keyword difficulty levels look like they are between 70 and 100, but there are a lot of outliers on the lower end."
   ]
  },
  {
   "cell_type": "code",
   "execution_count": 39,
   "metadata": {},
   "outputs": [
    {
     "data": {
      "text/plain": [
       "{'whiskers': [<matplotlib.lines.Line2D at 0x1d05dee8748>,\n",
       "  <matplotlib.lines.Line2D at 0x1d05dee8108>],\n",
       " 'caps': [<matplotlib.lines.Line2D at 0x1d05dec51c8>,\n",
       "  <matplotlib.lines.Line2D at 0x1d05dec5548>],\n",
       " 'boxes': [<matplotlib.lines.Line2D at 0x1d05ded7d08>],\n",
       " 'medians': [<matplotlib.lines.Line2D at 0x1d05dec6cc8>],\n",
       " 'fliers': [<matplotlib.lines.Line2D at 0x1d05dec6bc8>],\n",
       " 'means': []}"
      ]
     },
     "execution_count": 39,
     "metadata": {},
     "output_type": "execute_result"
    },
    {
     "data": {
      "image/png": "[encoded data removed]",
      "text/plain": [
       "<Figure size 720x720 with 1 Axes>"
      ]
     },
     "metadata": {
      "needs_background": "light"
     },
     "output_type": "display_data"
    }
   ],
   "source": [
    "plt.boxplot(df['Position'])"
   ]
  },
  {
   "cell_type": "code",
   "execution_count": 40,
   "metadata": {},
   "outputs": [
    {
     "data": {
      "image/png": "[encoded data removed]",
      "text/plain": [
       "<Figure size 720x720 with 1 Axes>"
      ]
     },
     "metadata": {
      "needs_background": "light"
     },
     "output_type": "display_data"
    }
   ],
   "source": [
    "plt.scatter(df['Traffic'], df['Traffic (%)'])\n",
    "plt.title(\"Traffic vs. Traffic %\")\n",
    "plt.xlabel('Traffic')\n",
    "plt.ylabel(\"Traffic %\")\n",
    "plt.show()"
   ]
  },
  {
   "cell_type": "code",
   "execution_count": null,
   "metadata": {},
   "outputs": [],
   "source": []
  },
  {
   "cell_type": "code",
   "execution_count": 42,
   "metadata": {},
   "outputs": [
    {
     "data": {
      "text/plain": [
       "{'whiskers': [<matplotlib.lines.Line2D at 0x1d05c058048>,\n",
       "  <matplotlib.lines.Line2D at 0x1d05c058d08>],\n",
       " 'caps': [<matplotlib.lines.Line2D at 0x1d05c058348>,\n",
       "  <matplotlib.lines.Line2D at 0x1d05c059208>],\n",
       " 'boxes': [<matplotlib.lines.Line2D at 0x1d05c042748>],\n",
       " 'medians': [<matplotlib.lines.Line2D at 0x1d05c0598c8>],\n",
       " 'fliers': [<matplotlib.lines.Line2D at 0x1d05daf0bc8>],\n",
       " 'means': []}"
      ]
     },
     "execution_count": 42,
     "metadata": {},
     "output_type": "execute_result"
    },
    {
     "data": {
      "image/png": "[encoded data removed]",
      "text/plain": [
       "<Figure size 720x720 with 1 Axes>"
      ]
     },
     "metadata": {
      "needs_background": "light"
     },
     "output_type": "display_data"
    }
   ],
   "source": [
    "plt.boxplot(df['CPC'])"
   ]
  },
  {
   "cell_type": "markdown",
   "metadata": {},
   "source": [
    "As we can see, most of the keywords have very low CPC, but there is one keyword that is drastically higher."
   ]
  },
  {
   "cell_type": "code",
   "execution_count": 43,
   "metadata": {},
   "outputs": [
    {
     "data": {
      "image/png": "[encoded data removed]",
      "text/plain": [
       "<Figure size 720x720 with 2 Axes>"
      ]
     },
     "metadata": {
      "needs_background": "light"
     },
     "output_type": "display_data"
    },
    {
     "data": {
      "text/plain": [
       "<Figure size 1440x1440 with 0 Axes>"
      ]
     },
     "metadata": {},
     "output_type": "display_data"
    }
   ],
   "source": [
    "corrMatrix = df.corr()\n",
    "sns.heatmap(corrMatrix, annot=True, cmap='RdBu')\n",
    "plt.figure(figsize=(20,20))\n",
    "plt.show()\n"
   ]
  },
  {
   "cell_type": "markdown",
   "metadata": {},
   "source": [
    "It looks like Traffic, Traffic% and Traffic cost are colinear. Therefore, it would be best to only include one of these measures in the analysis. We will analyze the traffic raw metric. So now, we'll drop traffic % and Traffic cost."
   ]
  },
  {
   "cell_type": "code",
   "execution_count": null,
   "metadata": {},
   "outputs": [],
   "source": [
    "df.drop(columns=['Traffic (%)', 'Traffic Cost'], inplace=True)"
   ]
  },
  {
   "cell_type": "code",
   "execution_count": 55,
   "metadata": {},
   "outputs": [],
   "source": [
    "df.drop(columns=['Unnamed: 0'], inplace=True)\n"
   ]
  },
  {
   "cell_type": "code",
   "execution_count": 56,
   "metadata": {},
   "outputs": [
    {
     "data": {
      "text/plain": [
       "Index(['Keyword', 'Position', 'Previous position', 'Search Volume',\n",
       "       'Keyword Difficulty', 'CPC', 'URL', 'Traffic', 'Competition',\n",
       "       'Number of Results', 'Timestamp'],\n",
       "      dtype='object')"
      ]
     },
     "execution_count": 56,
     "metadata": {},
     "output_type": "execute_result"
    }
   ],
   "source": [
    "df.columns"
   ]
  },
  {
   "cell_type": "code",
   "execution_count": 59,
   "metadata": {},
   "outputs": [
    {
     "data": {
      "text/html": [
       "<div>\n",
       "<style scoped>\n",
       "    .dataframe tbody tr th:only-of-type {\n",
       "        vertical-align: middle;\n",
       "    }\n",
       "\n",
       "    .dataframe tbody tr th {\n",
       "        vertical-align: top;\n",
       "    }\n",
       "\n",
       "    .dataframe thead th {\n",
       "        text-align: right;\n",
       "    }\n",
       "</style>\n",
       "<table border=\"1\" class=\"dataframe\">\n",
       "  <thead>\n",
       "    <tr style=\"text-align: right;\">\n",
       "      <th></th>\n",
       "      <th>count</th>\n",
       "      <th>mean</th>\n",
       "      <th>std</th>\n",
       "      <th>min</th>\n",
       "      <th>25%</th>\n",
       "      <th>50%</th>\n",
       "      <th>75%</th>\n",
       "      <th>max</th>\n",
       "    </tr>\n",
       "  </thead>\n",
       "  <tbody>\n",
       "    <tr>\n",
       "      <th>Position</th>\n",
       "      <td>10000.0</td>\n",
       "      <td>5.187130e+01</td>\n",
       "      <td>3.297794e+01</td>\n",
       "      <td>1.00</td>\n",
       "      <td>20.0000</td>\n",
       "      <td>59.000</td>\n",
       "      <td>81.00</td>\n",
       "      <td>1.000000e+02</td>\n",
       "    </tr>\n",
       "    <tr>\n",
       "      <th>Previous position</th>\n",
       "      <td>10000.0</td>\n",
       "      <td>5.082950e+01</td>\n",
       "      <td>3.340215e+01</td>\n",
       "      <td>0.00</td>\n",
       "      <td>17.0000</td>\n",
       "      <td>57.000</td>\n",
       "      <td>81.00</td>\n",
       "      <td>1.000000e+02</td>\n",
       "    </tr>\n",
       "    <tr>\n",
       "      <th>Search Volume</th>\n",
       "      <td>10000.0</td>\n",
       "      <td>2.356532e+03</td>\n",
       "      <td>5.430127e+04</td>\n",
       "      <td>20.00</td>\n",
       "      <td>30.0000</td>\n",
       "      <td>50.000</td>\n",
       "      <td>140.00</td>\n",
       "      <td>2.740000e+06</td>\n",
       "    </tr>\n",
       "    <tr>\n",
       "      <th>Keyword Difficulty</th>\n",
       "      <td>10000.0</td>\n",
       "      <td>8.089932e+01</td>\n",
       "      <td>7.046178e+00</td>\n",
       "      <td>31.91</td>\n",
       "      <td>77.2175</td>\n",
       "      <td>82.165</td>\n",
       "      <td>85.86</td>\n",
       "      <td>9.993000e+01</td>\n",
       "    </tr>\n",
       "    <tr>\n",
       "      <th>CPC</th>\n",
       "      <td>10000.0</td>\n",
       "      <td>5.497260e-01</td>\n",
       "      <td>3.874393e+00</td>\n",
       "      <td>0.00</td>\n",
       "      <td>0.0000</td>\n",
       "      <td>0.000</td>\n",
       "      <td>0.00</td>\n",
       "      <td>3.356900e+02</td>\n",
       "    </tr>\n",
       "    <tr>\n",
       "      <th>Traffic</th>\n",
       "      <td>10000.0</td>\n",
       "      <td>5.308406e+02</td>\n",
       "      <td>2.386606e+04</td>\n",
       "      <td>0.00</td>\n",
       "      <td>0.0000</td>\n",
       "      <td>0.000</td>\n",
       "      <td>0.00</td>\n",
       "      <td>2.192000e+06</td>\n",
       "    </tr>\n",
       "    <tr>\n",
       "      <th>Competition</th>\n",
       "      <td>10000.0</td>\n",
       "      <td>1.378440e-01</td>\n",
       "      <td>2.698258e-01</td>\n",
       "      <td>0.00</td>\n",
       "      <td>0.0000</td>\n",
       "      <td>0.010</td>\n",
       "      <td>0.11</td>\n",
       "      <td>1.000000e+00</td>\n",
       "    </tr>\n",
       "    <tr>\n",
       "      <th>Number of Results</th>\n",
       "      <td>10000.0</td>\n",
       "      <td>3.259758e+08</td>\n",
       "      <td>1.429064e+09</td>\n",
       "      <td>0.00</td>\n",
       "      <td>91.0000</td>\n",
       "      <td>1465000.000</td>\n",
       "      <td>31300000.00</td>\n",
       "      <td>2.527000e+10</td>\n",
       "    </tr>\n",
       "  </tbody>\n",
       "</table>\n",
       "</div>"
      ],
      "text/plain": [
       "                      count          mean           std    min      25%  \\\n",
       "Position            10000.0  5.187130e+01  3.297794e+01   1.00  20.0000   \n",
       "Previous position   10000.0  5.082950e+01  3.340215e+01   0.00  17.0000   \n",
       "Search Volume       10000.0  2.356532e+03  5.430127e+04  20.00  30.0000   \n",
       "Keyword Difficulty  10000.0  8.089932e+01  7.046178e+00  31.91  77.2175   \n",
       "CPC                 10000.0  5.497260e-01  3.874393e+00   0.00   0.0000   \n",
       "Traffic             10000.0  5.308406e+02  2.386606e+04   0.00   0.0000   \n",
       "Competition         10000.0  1.378440e-01  2.698258e-01   0.00   0.0000   \n",
       "Number of Results   10000.0  3.259758e+08  1.429064e+09   0.00  91.0000   \n",
       "\n",
       "                            50%          75%           max  \n",
       "Position                 59.000        81.00  1.000000e+02  \n",
       "Previous position        57.000        81.00  1.000000e+02  \n",
       "Search Volume            50.000       140.00  2.740000e+06  \n",
       "Keyword Difficulty       82.165        85.86  9.993000e+01  \n",
       "CPC                       0.000         0.00  3.356900e+02  \n",
       "Traffic                   0.000         0.00  2.192000e+06  \n",
       "Competition               0.010         0.11  1.000000e+00  \n",
       "Number of Results   1465000.000  31300000.00  2.527000e+10  "
      ]
     },
     "execution_count": 59,
     "metadata": {},
     "output_type": "execute_result"
    }
   ],
   "source": [
    "df.describe().T"
   ]
  },
  {
   "cell_type": "markdown",
   "metadata": {},
   "source": [
    "Overall, it looks like there are several outliers in the dataset. It is important to decide whether to drop the extreme values before continuing."
   ]
  },
  {
   "cell_type": "code",
   "execution_count": 60,
   "metadata": {},
   "outputs": [],
   "source": [
    "df.to_csv('data_step4.csv')"
   ]
  },
  {
   "cell_type": "markdown",
   "metadata": {},
   "source": [
    "## Baseline Model\n",
    "As a simple model for this predictive model, we chose multiple linear regressions. This is a conceptually basic mondel and the interpretation is relatively simple compared to other predictive models. In addition, we can apply the model to other target variables of interest as the research question develops.'\n",
    "\n",
    "In this multiple regression model, we have to preprocess the data. For continuous variables this means centering and scaling the data by the mean and standard deviation respectively, but for categorical data it includes creating dummy variables.\n",
    "\n",
    "Then we get rid of variables involving arbitrary dates, such as the timestamp. This will be difficult to handle in a regression context. \n"
   ]
  },
  {
   "cell_type": "code",
   "execution_count": 1,
   "metadata": {},
   "outputs": [],
   "source": [
    "#import relevant packages\n",
    "import numpy as np\n",
    "import pandas as pd\n",
    "import matplotlib.pyplot as plt\n",
    "import re\n",
    "from sklearn.impute import SimpleImputer\n",
    "from sklearn.linear_model import LogisticRegression\n",
    "from sklearn.metrics import classification_report, confusion_matrix\n",
    "from sklearn.preprocessing import StandardScaler\n",
    "from sklearn.model_selection import train_test_split\n",
    "%matplotlib inline\n",
    "from sklearn.linear_model import LinearRegression\n",
    "from sklearn.metrics import explained_variance_score"
   ]
  },
  {
   "cell_type": "code",
   "execution_count": 2,
   "metadata": {},
   "outputs": [],
   "source": [
    "#import data from wrangling stage\n",
    "df=pd.read_csv('data_step4.csv')"
   ]
  },
  {
   "cell_type": "code",
   "execution_count": 3,
   "metadata": {},
   "outputs": [],
   "source": [
    "df.head()\n",
    "df.drop(columns='Timestamp', inplace=True)\n"
   ]
  },
  {
   "cell_type": "code",
   "execution_count": 4,
   "metadata": {},
   "outputs": [
    {
     "data": {
      "text/html": [
       "<div>\n",
       "<style scoped>\n",
       "    .dataframe tbody tr th:only-of-type {\n",
       "        vertical-align: middle;\n",
       "    }\n",
       "\n",
       "    .dataframe tbody tr th {\n",
       "        vertical-align: top;\n",
       "    }\n",
       "\n",
       "    .dataframe thead th {\n",
       "        text-align: right;\n",
       "    }\n",
       "</style>\n",
       "<table border=\"1\" class=\"dataframe\">\n",
       "  <thead>\n",
       "    <tr style=\"text-align: right;\">\n",
       "      <th></th>\n",
       "      <th>Unnamed: 0</th>\n",
       "      <th>Keyword</th>\n",
       "      <th>Position</th>\n",
       "      <th>Previous position</th>\n",
       "      <th>Search Volume</th>\n",
       "      <th>Keyword Difficulty</th>\n",
       "      <th>CPC</th>\n",
       "      <th>URL</th>\n",
       "      <th>Traffic</th>\n",
       "      <th>Competition</th>\n",
       "      <th>Number of Results</th>\n",
       "    </tr>\n",
       "  </thead>\n",
       "  <tbody>\n",
       "    <tr>\n",
       "      <th>0</th>\n",
       "      <td>0</td>\n",
       "      <td>dunkin donuts</td>\n",
       "      <td>1</td>\n",
       "      <td>1</td>\n",
       "      <td>2740000</td>\n",
       "      <td>88.99</td>\n",
       "      <td>2.24</td>\n",
       "      <td>https://www.dunkindonuts.com/</td>\n",
       "      <td>2192000</td>\n",
       "      <td>0.09</td>\n",
       "      <td>35000000</td>\n",
       "    </tr>\n",
       "    <tr>\n",
       "      <th>1</th>\n",
       "      <td>1</td>\n",
       "      <td>dunkin donuts near me</td>\n",
       "      <td>1</td>\n",
       "      <td>1</td>\n",
       "      <td>823000</td>\n",
       "      <td>83.58</td>\n",
       "      <td>2.32</td>\n",
       "      <td>https://www.dunkindonuts.com/en/locations</td>\n",
       "      <td>658400</td>\n",
       "      <td>0.01</td>\n",
       "      <td>85</td>\n",
       "    </tr>\n",
       "    <tr>\n",
       "      <th>2</th>\n",
       "      <td>2</td>\n",
       "      <td>dunkin donuts menu</td>\n",
       "      <td>1</td>\n",
       "      <td>1</td>\n",
       "      <td>550000</td>\n",
       "      <td>86.33</td>\n",
       "      <td>1.78</td>\n",
       "      <td>https://www.dunkindonuts.com/en/menu</td>\n",
       "      <td>440000</td>\n",
       "      <td>0.02</td>\n",
       "      <td>30200000</td>\n",
       "    </tr>\n",
       "    <tr>\n",
       "      <th>3</th>\n",
       "      <td>3</td>\n",
       "      <td>donuts</td>\n",
       "      <td>1</td>\n",
       "      <td>1</td>\n",
       "      <td>823000</td>\n",
       "      <td>81.85</td>\n",
       "      <td>1.54</td>\n",
       "      <td>https://www.dunkindonuts.com/</td>\n",
       "      <td>386810</td>\n",
       "      <td>0.04</td>\n",
       "      <td>321000000</td>\n",
       "    </tr>\n",
       "    <tr>\n",
       "      <th>4</th>\n",
       "      <td>4</td>\n",
       "      <td>dd</td>\n",
       "      <td>1</td>\n",
       "      <td>1</td>\n",
       "      <td>301000</td>\n",
       "      <td>84.47</td>\n",
       "      <td>2.53</td>\n",
       "      <td>https://www.dunkindonuts.com/</td>\n",
       "      <td>240800</td>\n",
       "      <td>0.02</td>\n",
       "      <td>871000000</td>\n",
       "    </tr>\n",
       "  </tbody>\n",
       "</table>\n",
       "</div>"
      ],
      "text/plain": [
       "   Unnamed: 0                Keyword  Position  Previous position  \\\n",
       "0           0          dunkin donuts         1                  1   \n",
       "1           1  dunkin donuts near me         1                  1   \n",
       "2           2     dunkin donuts menu         1                  1   \n",
       "3           3                 donuts         1                  1   \n",
       "4           4                     dd         1                  1   \n",
       "\n",
       "   Search Volume  Keyword Difficulty   CPC  \\\n",
       "0        2740000               88.99  2.24   \n",
       "1         823000               83.58  2.32   \n",
       "2         550000               86.33  1.78   \n",
       "3         823000               81.85  1.54   \n",
       "4         301000               84.47  2.53   \n",
       "\n",
       "                                         URL  Traffic  Competition  \\\n",
       "0              https://www.dunkindonuts.com/  2192000         0.09   \n",
       "1  https://www.dunkindonuts.com/en/locations   658400         0.01   \n",
       "2       https://www.dunkindonuts.com/en/menu   440000         0.02   \n",
       "3              https://www.dunkindonuts.com/   386810         0.04   \n",
       "4              https://www.dunkindonuts.com/   240800         0.02   \n",
       "\n",
       "   Number of Results  \n",
       "0           35000000  \n",
       "1                 85  \n",
       "2           30200000  \n",
       "3          321000000  \n",
       "4          871000000  "
      ]
     },
     "execution_count": 4,
     "metadata": {},
     "output_type": "execute_result"
    }
   ],
   "source": [
    "df.head()"
   ]
  },
  {
   "cell_type": "code",
   "execution_count": 5,
   "metadata": {},
   "outputs": [
    {
     "data": {
      "text/plain": [
       "Unnamed: 0              int64\n",
       "Keyword                object\n",
       "Position                int64\n",
       "Previous position       int64\n",
       "Search Volume           int64\n",
       "Keyword Difficulty    float64\n",
       "CPC                   float64\n",
       "URL                    object\n",
       "Traffic                 int64\n",
       "Competition           float64\n",
       "Number of Results       int64\n",
       "dtype: object"
      ]
     },
     "execution_count": 5,
     "metadata": {},
     "output_type": "execute_result"
    }
   ],
   "source": [
    "df.dtypes"
   ]
  },
  {
   "cell_type": "markdown",
   "metadata": {},
   "source": [
    "Next, the keyword column will be separated because it is the label column. This will be dropped from the preprocessed data as it will not be entered into the regression model."
   ]
  },
  {
   "cell_type": "code",
   "execution_count": 6,
   "metadata": {},
   "outputs": [
    {
     "data": {
      "text/plain": [
       "Index(['Unnamed: 0', 'Position', 'Previous position', 'Search Volume',\n",
       "       'Keyword Difficulty', 'CPC', 'URL', 'Traffic', 'Competition',\n",
       "       'Number of Results'],\n",
       "      dtype='object')"
      ]
     },
     "execution_count": 6,
     "metadata": {},
     "output_type": "execute_result"
    }
   ],
   "source": [
    "df1=df.drop(columns='Keyword')\n",
    "keyword=df['Keyword']\n",
    "df1.head()\n",
    "df1.drop(columns='Unnamed: 0')\n",
    "df1.columns"
   ]
  },
  {
   "cell_type": "code",
   "execution_count": 7,
   "metadata": {},
   "outputs": [
    {
     "data": {
      "text/html": [
       "<div>\n",
       "<style scoped>\n",
       "    .dataframe tbody tr th:only-of-type {\n",
       "        vertical-align: middle;\n",
       "    }\n",
       "\n",
       "    .dataframe tbody tr th {\n",
       "        vertical-align: top;\n",
       "    }\n",
       "\n",
       "    .dataframe thead th {\n",
       "        text-align: right;\n",
       "    }\n",
       "</style>\n",
       "<table border=\"1\" class=\"dataframe\">\n",
       "  <thead>\n",
       "    <tr style=\"text-align: right;\">\n",
       "      <th></th>\n",
       "      <th>Position</th>\n",
       "      <th>Previous position</th>\n",
       "      <th>Search Volume</th>\n",
       "      <th>Keyword Difficulty</th>\n",
       "      <th>CPC</th>\n",
       "      <th>Traffic</th>\n",
       "      <th>Competition</th>\n",
       "      <th>Number of Results</th>\n",
       "    </tr>\n",
       "  </thead>\n",
       "  <tbody>\n",
       "    <tr>\n",
       "      <th>0</th>\n",
       "      <td>1</td>\n",
       "      <td>1</td>\n",
       "      <td>2740000</td>\n",
       "      <td>88.99</td>\n",
       "      <td>2.24</td>\n",
       "      <td>2192000</td>\n",
       "      <td>0.09</td>\n",
       "      <td>35000000</td>\n",
       "    </tr>\n",
       "    <tr>\n",
       "      <th>1</th>\n",
       "      <td>1</td>\n",
       "      <td>1</td>\n",
       "      <td>823000</td>\n",
       "      <td>83.58</td>\n",
       "      <td>2.32</td>\n",
       "      <td>658400</td>\n",
       "      <td>0.01</td>\n",
       "      <td>85</td>\n",
       "    </tr>\n",
       "    <tr>\n",
       "      <th>2</th>\n",
       "      <td>1</td>\n",
       "      <td>1</td>\n",
       "      <td>550000</td>\n",
       "      <td>86.33</td>\n",
       "      <td>1.78</td>\n",
       "      <td>440000</td>\n",
       "      <td>0.02</td>\n",
       "      <td>30200000</td>\n",
       "    </tr>\n",
       "    <tr>\n",
       "      <th>3</th>\n",
       "      <td>1</td>\n",
       "      <td>1</td>\n",
       "      <td>823000</td>\n",
       "      <td>81.85</td>\n",
       "      <td>1.54</td>\n",
       "      <td>386810</td>\n",
       "      <td>0.04</td>\n",
       "      <td>321000000</td>\n",
       "    </tr>\n",
       "    <tr>\n",
       "      <th>4</th>\n",
       "      <td>1</td>\n",
       "      <td>1</td>\n",
       "      <td>301000</td>\n",
       "      <td>84.47</td>\n",
       "      <td>2.53</td>\n",
       "      <td>240800</td>\n",
       "      <td>0.02</td>\n",
       "      <td>871000000</td>\n",
       "    </tr>\n",
       "  </tbody>\n",
       "</table>\n",
       "</div>"
      ],
      "text/plain": [
       "   Position  Previous position  Search Volume  Keyword Difficulty   CPC  \\\n",
       "0         1                  1        2740000               88.99  2.24   \n",
       "1         1                  1         823000               83.58  2.32   \n",
       "2         1                  1         550000               86.33  1.78   \n",
       "3         1                  1         823000               81.85  1.54   \n",
       "4         1                  1         301000               84.47  2.53   \n",
       "\n",
       "   Traffic  Competition  Number of Results  \n",
       "0  2192000         0.09           35000000  \n",
       "1   658400         0.01                 85  \n",
       "2   440000         0.02           30200000  \n",
       "3   386810         0.04          321000000  \n",
       "4   240800         0.02          871000000  "
      ]
     },
     "execution_count": 7,
     "metadata": {},
     "output_type": "execute_result"
    }
   ],
   "source": [
    "continuous_var=df1.drop(columns='URL')\n",
    "\n",
    "continuous_var.drop(columns='Unnamed: 0', inplace=True)\n",
    "continuous_var.head()\n"
   ]
  },
  {
   "cell_type": "code",
   "execution_count": 8,
   "metadata": {},
   "outputs": [
    {
     "data": {
      "text/html": [
       "<div>\n",
       "<style scoped>\n",
       "    .dataframe tbody tr th:only-of-type {\n",
       "        vertical-align: middle;\n",
       "    }\n",
       "\n",
       "    .dataframe tbody tr th {\n",
       "        vertical-align: top;\n",
       "    }\n",
       "\n",
       "    .dataframe thead th {\n",
       "        text-align: right;\n",
       "    }\n",
       "</style>\n",
       "<table border=\"1\" class=\"dataframe\">\n",
       "  <thead>\n",
       "    <tr style=\"text-align: right;\">\n",
       "      <th></th>\n",
       "      <th>Position</th>\n",
       "      <th>Previous position</th>\n",
       "      <th>Search Volume</th>\n",
       "      <th>Keyword Difficulty</th>\n",
       "      <th>CPC</th>\n",
       "      <th>Traffic</th>\n",
       "      <th>Competition</th>\n",
       "      <th>Number of Results</th>\n",
       "    </tr>\n",
       "  </thead>\n",
       "  <tbody>\n",
       "    <tr>\n",
       "      <th>0</th>\n",
       "      <td>1</td>\n",
       "      <td>1</td>\n",
       "      <td>2740000</td>\n",
       "      <td>88.99</td>\n",
       "      <td>2.24</td>\n",
       "      <td>2192000</td>\n",
       "      <td>0.09</td>\n",
       "      <td>35000000</td>\n",
       "    </tr>\n",
       "    <tr>\n",
       "      <th>1</th>\n",
       "      <td>1</td>\n",
       "      <td>1</td>\n",
       "      <td>823000</td>\n",
       "      <td>83.58</td>\n",
       "      <td>2.32</td>\n",
       "      <td>658400</td>\n",
       "      <td>0.01</td>\n",
       "      <td>85</td>\n",
       "    </tr>\n",
       "    <tr>\n",
       "      <th>2</th>\n",
       "      <td>1</td>\n",
       "      <td>1</td>\n",
       "      <td>550000</td>\n",
       "      <td>86.33</td>\n",
       "      <td>1.78</td>\n",
       "      <td>440000</td>\n",
       "      <td>0.02</td>\n",
       "      <td>30200000</td>\n",
       "    </tr>\n",
       "    <tr>\n",
       "      <th>3</th>\n",
       "      <td>1</td>\n",
       "      <td>1</td>\n",
       "      <td>823000</td>\n",
       "      <td>81.85</td>\n",
       "      <td>1.54</td>\n",
       "      <td>386810</td>\n",
       "      <td>0.04</td>\n",
       "      <td>321000000</td>\n",
       "    </tr>\n",
       "    <tr>\n",
       "      <th>4</th>\n",
       "      <td>1</td>\n",
       "      <td>1</td>\n",
       "      <td>301000</td>\n",
       "      <td>84.47</td>\n",
       "      <td>2.53</td>\n",
       "      <td>240800</td>\n",
       "      <td>0.02</td>\n",
       "      <td>871000000</td>\n",
       "    </tr>\n",
       "  </tbody>\n",
       "</table>\n",
       "</div>"
      ],
      "text/plain": [
       "   Position  Previous position  Search Volume  Keyword Difficulty   CPC  \\\n",
       "0         1                  1        2740000               88.99  2.24   \n",
       "1         1                  1         823000               83.58  2.32   \n",
       "2         1                  1         550000               86.33  1.78   \n",
       "3         1                  1         823000               81.85  1.54   \n",
       "4         1                  1         301000               84.47  2.53   \n",
       "\n",
       "   Traffic  Competition  Number of Results  \n",
       "0  2192000         0.09           35000000  \n",
       "1   658400         0.01                 85  \n",
       "2   440000         0.02           30200000  \n",
       "3   386810         0.04          321000000  \n",
       "4   240800         0.02          871000000  "
      ]
     },
     "execution_count": 8,
     "metadata": {},
     "output_type": "execute_result"
    }
   ],
   "source": [
    "cat_var=['URL']\n",
    "continuous_var.head()"
   ]
  },
  {
   "cell_type": "markdown",
   "metadata": {},
   "source": [
    "## Preprocessing\n",
    "\n",
    "The continuous variables will be scaled and centered, since many predictive models perform better when all variables have a similar average and variance. In addition, we ensure there are no missing rows or columns, which we already established. Next, the independent variables are placed in an array (x) and target variable (position) is placed in a second array (y)."
   ]
  },
  {
   "cell_type": "code",
   "execution_count": 9,
   "metadata": {},
   "outputs": [
    {
     "data": {
      "text/html": [
       "<div>\n",
       "<style scoped>\n",
       "    .dataframe tbody tr th:only-of-type {\n",
       "        vertical-align: middle;\n",
       "    }\n",
       "\n",
       "    .dataframe tbody tr th {\n",
       "        vertical-align: top;\n",
       "    }\n",
       "\n",
       "    .dataframe thead th {\n",
       "        text-align: right;\n",
       "    }\n",
       "</style>\n",
       "<table border=\"1\" class=\"dataframe\">\n",
       "  <thead>\n",
       "    <tr style=\"text-align: right;\">\n",
       "      <th></th>\n",
       "      <th>0</th>\n",
       "      <th>1</th>\n",
       "      <th>2</th>\n",
       "      <th>3</th>\n",
       "      <th>4</th>\n",
       "      <th>5</th>\n",
       "      <th>6</th>\n",
       "      <th>7</th>\n",
       "    </tr>\n",
       "  </thead>\n",
       "  <tbody>\n",
       "    <tr>\n",
       "      <th>0</th>\n",
       "      <td>-1.542663</td>\n",
       "      <td>-1.49188</td>\n",
       "      <td>50.418352</td>\n",
       "      <td>1.148294</td>\n",
       "      <td>0.436290</td>\n",
       "      <td>91.828251</td>\n",
       "      <td>-0.177323</td>\n",
       "      <td>-0.203623</td>\n",
       "    </tr>\n",
       "    <tr>\n",
       "      <th>1</th>\n",
       "      <td>-1.542663</td>\n",
       "      <td>-1.49188</td>\n",
       "      <td>15.113543</td>\n",
       "      <td>0.380464</td>\n",
       "      <td>0.456939</td>\n",
       "      <td>27.566427</td>\n",
       "      <td>-0.473826</td>\n",
       "      <td>-0.228116</td>\n",
       "    </tr>\n",
       "    <tr>\n",
       "      <th>2</th>\n",
       "      <td>-1.542663</td>\n",
       "      <td>-1.49188</td>\n",
       "      <td>10.085784</td>\n",
       "      <td>0.770766</td>\n",
       "      <td>0.317556</td>\n",
       "      <td>18.414899</td>\n",
       "      <td>-0.436763</td>\n",
       "      <td>-0.206982</td>\n",
       "    </tr>\n",
       "    <tr>\n",
       "      <th>3</th>\n",
       "      <td>-1.542663</td>\n",
       "      <td>-1.49188</td>\n",
       "      <td>15.113543</td>\n",
       "      <td>0.134928</td>\n",
       "      <td>0.255607</td>\n",
       "      <td>16.186100</td>\n",
       "      <td>-0.362637</td>\n",
       "      <td>-0.003482</td>\n",
       "    </tr>\n",
       "    <tr>\n",
       "      <th>4</th>\n",
       "      <td>-1.542663</td>\n",
       "      <td>-1.49188</td>\n",
       "      <td>5.500026</td>\n",
       "      <td>0.506780</td>\n",
       "      <td>0.511144</td>\n",
       "      <td>10.067902</td>\n",
       "      <td>-0.436763</td>\n",
       "      <td>0.381404</td>\n",
       "    </tr>\n",
       "  </tbody>\n",
       "</table>\n",
       "</div>"
      ],
      "text/plain": [
       "          0        1          2         3         4          5         6  \\\n",
       "0 -1.542663 -1.49188  50.418352  1.148294  0.436290  91.828251 -0.177323   \n",
       "1 -1.542663 -1.49188  15.113543  0.380464  0.456939  27.566427 -0.473826   \n",
       "2 -1.542663 -1.49188  10.085784  0.770766  0.317556  18.414899 -0.436763   \n",
       "3 -1.542663 -1.49188  15.113543  0.134928  0.255607  16.186100 -0.362637   \n",
       "4 -1.542663 -1.49188   5.500026  0.506780  0.511144  10.067902 -0.436763   \n",
       "\n",
       "          7  \n",
       "0 -0.203623  \n",
       "1 -0.228116  \n",
       "2 -0.206982  \n",
       "3 -0.003482  \n",
       "4  0.381404  "
      ]
     },
     "execution_count": 9,
     "metadata": {},
     "output_type": "execute_result"
    }
   ],
   "source": [
    "scaler = StandardScaler()\n",
    "df_scaled = pd.DataFrame(scaler.fit_transform(continuous_var))\n",
    "df_scaled.columns\n",
    "df_scaled.head()\n",
    "\n",
    "\n",
    "\n"
   ]
  },
  {
   "cell_type": "code",
   "execution_count": 10,
   "metadata": {},
   "outputs": [],
   "source": [
    "df_scaled.columns=[ 'Position', 'Previous position', 'Search Volume',\n",
    "       'Keyword Difficulty', 'CPC', 'Traffic', 'Competition',\n",
    "       'Number of Results']"
   ]
  },
  {
   "cell_type": "code",
   "execution_count": 11,
   "metadata": {},
   "outputs": [],
   "source": [
    "df_scaled['URL'] = df1[cat_var]"
   ]
  },
  {
   "cell_type": "code",
   "execution_count": 12,
   "metadata": {},
   "outputs": [],
   "source": [
    "df_scaled.head()\n",
    "df_new = pd.get_dummies(df_scaled,dummy_na=True)\n",
    "X=df_new.drop(columns='Position')\n",
    "y=df_new['Position']"
   ]
  },
  {
   "cell_type": "markdown",
   "metadata": {},
   "source": [
    "## Training and Testing the Model\n",
    "Next, we split the data into training and testing sets The training set will be used to cross_validate the hyperparameters for the model and the testing set will be used to validate the model.\n",
    "\n",
    "First, I will make a model with default parameters.\n"
   ]
  },
  {
   "cell_type": "code",
   "execution_count": 13,
   "metadata": {},
   "outputs": [],
   "source": [
    "#Split into test/train\n",
    "X_train, X_test, y_train, y_test= train_test_split(X, y, test_size=0.33, random_state=42)\n"
   ]
  },
  {
   "cell_type": "code",
   "execution_count": 14,
   "metadata": {},
   "outputs": [
    {
     "data": {
      "text/plain": [
       "LinearRegression()"
      ]
     },
     "execution_count": 14,
     "metadata": {},
     "output_type": "execute_result"
    }
   ],
   "source": [
    "# with sklearn\n",
    "regr = LinearRegression()\n",
    "regr.fit(X_train, y_train)\n"
   ]
  },
  {
   "cell_type": "code",
   "execution_count": 15,
   "metadata": {},
   "outputs": [],
   "source": [
    "y_pred=regr.predict(X_test)"
   ]
  },
  {
   "cell_type": "code",
   "execution_count": 16,
   "metadata": {},
   "outputs": [
    {
     "data": {
      "text/plain": [
       "-6.675009881291173e+21"
      ]
     },
     "execution_count": 16,
     "metadata": {},
     "output_type": "execute_result"
    }
   ],
   "source": [
    "explained_variance_score(y_test, y_pred)"
   ]
  },
  {
   "cell_type": "markdown",
   "metadata": {},
   "source": [
    "It looks like the URL column is skewing the model. Now lets try to drop the URL column and run the model again.\n"
   ]
  },
  {
   "cell_type": "code",
   "execution_count": 17,
   "metadata": {},
   "outputs": [
    {
     "data": {
      "text/html": [
       "<div>\n",
       "<style scoped>\n",
       "    .dataframe tbody tr th:only-of-type {\n",
       "        vertical-align: middle;\n",
       "    }\n",
       "\n",
       "    .dataframe tbody tr th {\n",
       "        vertical-align: top;\n",
       "    }\n",
       "\n",
       "    .dataframe thead th {\n",
       "        text-align: right;\n",
       "    }\n",
       "</style>\n",
       "<table border=\"1\" class=\"dataframe\">\n",
       "  <thead>\n",
       "    <tr style=\"text-align: right;\">\n",
       "      <th></th>\n",
       "      <th>Position</th>\n",
       "      <th>Previous position</th>\n",
       "      <th>Search Volume</th>\n",
       "      <th>Keyword Difficulty</th>\n",
       "      <th>CPC</th>\n",
       "      <th>Traffic</th>\n",
       "      <th>Competition</th>\n",
       "      <th>Number of Results</th>\n",
       "      <th>URL</th>\n",
       "    </tr>\n",
       "  </thead>\n",
       "  <tbody>\n",
       "    <tr>\n",
       "      <th>0</th>\n",
       "      <td>-1.542663</td>\n",
       "      <td>-1.49188</td>\n",
       "      <td>50.418352</td>\n",
       "      <td>1.148294</td>\n",
       "      <td>0.436290</td>\n",
       "      <td>91.828251</td>\n",
       "      <td>-0.177323</td>\n",
       "      <td>-0.203623</td>\n",
       "      <td>https://www.dunkindonuts.com/</td>\n",
       "    </tr>\n",
       "    <tr>\n",
       "      <th>1</th>\n",
       "      <td>-1.542663</td>\n",
       "      <td>-1.49188</td>\n",
       "      <td>15.113543</td>\n",
       "      <td>0.380464</td>\n",
       "      <td>0.456939</td>\n",
       "      <td>27.566427</td>\n",
       "      <td>-0.473826</td>\n",
       "      <td>-0.228116</td>\n",
       "      <td>https://www.dunkindonuts.com/en/locations</td>\n",
       "    </tr>\n",
       "    <tr>\n",
       "      <th>2</th>\n",
       "      <td>-1.542663</td>\n",
       "      <td>-1.49188</td>\n",
       "      <td>10.085784</td>\n",
       "      <td>0.770766</td>\n",
       "      <td>0.317556</td>\n",
       "      <td>18.414899</td>\n",
       "      <td>-0.436763</td>\n",
       "      <td>-0.206982</td>\n",
       "      <td>https://www.dunkindonuts.com/en/menu</td>\n",
       "    </tr>\n",
       "    <tr>\n",
       "      <th>3</th>\n",
       "      <td>-1.542663</td>\n",
       "      <td>-1.49188</td>\n",
       "      <td>15.113543</td>\n",
       "      <td>0.134928</td>\n",
       "      <td>0.255607</td>\n",
       "      <td>16.186100</td>\n",
       "      <td>-0.362637</td>\n",
       "      <td>-0.003482</td>\n",
       "      <td>https://www.dunkindonuts.com/</td>\n",
       "    </tr>\n",
       "    <tr>\n",
       "      <th>4</th>\n",
       "      <td>-1.542663</td>\n",
       "      <td>-1.49188</td>\n",
       "      <td>5.500026</td>\n",
       "      <td>0.506780</td>\n",
       "      <td>0.511144</td>\n",
       "      <td>10.067902</td>\n",
       "      <td>-0.436763</td>\n",
       "      <td>0.381404</td>\n",
       "      <td>https://www.dunkindonuts.com/</td>\n",
       "    </tr>\n",
       "  </tbody>\n",
       "</table>\n",
       "</div>"
      ],
      "text/plain": [
       "   Position  Previous position  Search Volume  Keyword Difficulty       CPC  \\\n",
       "0 -1.542663           -1.49188      50.418352            1.148294  0.436290   \n",
       "1 -1.542663           -1.49188      15.113543            0.380464  0.456939   \n",
       "2 -1.542663           -1.49188      10.085784            0.770766  0.317556   \n",
       "3 -1.542663           -1.49188      15.113543            0.134928  0.255607   \n",
       "4 -1.542663           -1.49188       5.500026            0.506780  0.511144   \n",
       "\n",
       "     Traffic  Competition  Number of Results  \\\n",
       "0  91.828251    -0.177323          -0.203623   \n",
       "1  27.566427    -0.473826          -0.228116   \n",
       "2  18.414899    -0.436763          -0.206982   \n",
       "3  16.186100    -0.362637          -0.003482   \n",
       "4  10.067902    -0.436763           0.381404   \n",
       "\n",
       "                                         URL  \n",
       "0              https://www.dunkindonuts.com/  \n",
       "1  https://www.dunkindonuts.com/en/locations  \n",
       "2       https://www.dunkindonuts.com/en/menu  \n",
       "3              https://www.dunkindonuts.com/  \n",
       "4              https://www.dunkindonuts.com/  "
      ]
     },
     "execution_count": 17,
     "metadata": {},
     "output_type": "execute_result"
    }
   ],
   "source": [
    "df_scaled.head()"
   ]
  },
  {
   "cell_type": "code",
   "execution_count": 18,
   "metadata": {},
   "outputs": [],
   "source": [
    "df_scaled.drop(columns='URL', inplace=True)"
   ]
  },
  {
   "cell_type": "code",
   "execution_count": 19,
   "metadata": {},
   "outputs": [],
   "source": [
    "X2=df_scaled.drop(columns='Position')\n",
    "y2=df_scaled['Position']"
   ]
  },
  {
   "cell_type": "code",
   "execution_count": 20,
   "metadata": {},
   "outputs": [],
   "source": [
    "#Split into test/train\n",
    "X_train2, X_test2, y_train2, y_test2= train_test_split(X2, y2, test_size=0.2, random_state=42)"
   ]
  },
  {
   "cell_type": "code",
   "execution_count": 21,
   "metadata": {},
   "outputs": [
    {
     "name": "stdout",
     "output_type": "stream",
     "text": [
      "Intercept: \n",
      " -0.000978581584977256\n",
      "Coefficients: \n",
      " [ 0.96177721  0.01754652 -0.01799402 -0.00141528 -0.01720571  0.00117578\n",
      "  0.01394046]\n"
     ]
    }
   ],
   "source": [
    "# with sklearn\n",
    "regr2 = LinearRegression()\n",
    "regr2.fit(X_train2, y_train2)\n",
    "\n",
    "print('Intercept: \\n', regr2.intercept_)\n",
    "print('Coefficients: \\n', regr2.coef_)"
   ]
  },
  {
   "cell_type": "code",
   "execution_count": 22,
   "metadata": {},
   "outputs": [],
   "source": [
    "y_pred2=regr2.predict(X_test2)"
   ]
  },
  {
   "cell_type": "code",
   "execution_count": 23,
   "metadata": {},
   "outputs": [
    {
     "data": {
      "text/plain": [
       "0.9101729847536906"
      ]
     },
     "execution_count": 23,
     "metadata": {},
     "output_type": "execute_result"
    }
   ],
   "source": [
    "explained_variance_score(y_test2, y_pred2)"
   ]
  },
  {
   "cell_type": "code",
   "execution_count": null,
   "metadata": {},
   "outputs": [],
   "source": []
  },
  {
   "cell_type": "markdown",
   "metadata": {},
   "source": [
    "## Baseline Model\n",
    "As a simple model for this predictive model, we chose multiple linear regressions. This is a conceptually basic mondel and the interpretation is relatively simple compared to other predictive models. In addition, we can apply the model to other target variables of interest as the research question develops.'\n",
    "\n",
    "In this multiple regression model, we have to preprocess the data. For continuous variables this means centering and scaling the data by the mean and standard deviation respectively, but for categorical data it includes creating dummy variables.\n",
    "\n",
    "Then we get rid of variables involving arbitrary dates, such as the timestamp. This will be difficult to handle in a regression context. \n",
    "\n",
    "\n",
    "#import relevant packages\n",
    "import numpy as np\n",
    "import pandas as pd\n",
    "import matplotlib.pyplot as plt\n",
    "import re\n",
    "from sklearn.impute import SimpleImputer\n",
    "from sklearn.linear_model import LogisticRegression\n",
    "from sklearn.metrics import classification_report, confusion_matrix\n",
    "from sklearn.preprocessing import StandardScaler\n",
    "from sklearn.model_selection import train_test_split\n",
    "%matplotlib inline\n",
    "from sklearn.linear_model import LinearRegression\n",
    "from sklearn.metrics import explained_variance_score"
   ]
  },
  {
   "cell_type": "code",
   "execution_count": 9,
   "metadata": {},
   "outputs": [],
   "source": [
    "import pandas as pd\n",
    "import numpy as np\n",
    "import pandas as pd\n",
    "import matplotlib.pyplot as plt\n",
    "import re\n",
    "from sklearn.impute import SimpleImputer\n",
    "from sklearn.linear_model import LogisticRegression\n",
    "from sklearn.metrics import classification_report, confusion_matrix\n",
    "from sklearn.preprocessing import StandardScaler\n",
    "%matplotlib inline\n",
    "#import data from wrangling stage\n",
    "df=pd.read_csv('data_step4.csv')"
   ]
  },
  {
   "cell_type": "code",
   "execution_count": 10,
   "metadata": {},
   "outputs": [],
   "source": [
    "df.head()\n",
    "df.drop(columns='Timestamp', inplace=True)\n"
   ]
  },
  {
   "cell_type": "code",
   "execution_count": 11,
   "metadata": {},
   "outputs": [
    {
     "data": {
      "text/html": [
       "<div>\n",
       "<style scoped>\n",
       "    .dataframe tbody tr th:only-of-type {\n",
       "        vertical-align: middle;\n",
       "    }\n",
       "\n",
       "    .dataframe tbody tr th {\n",
       "        vertical-align: top;\n",
       "    }\n",
       "\n",
       "    .dataframe thead th {\n",
       "        text-align: right;\n",
       "    }\n",
       "</style>\n",
       "<table border=\"1\" class=\"dataframe\">\n",
       "  <thead>\n",
       "    <tr style=\"text-align: right;\">\n",
       "      <th></th>\n",
       "      <th>Unnamed: 0</th>\n",
       "      <th>Keyword</th>\n",
       "      <th>Position</th>\n",
       "      <th>Previous position</th>\n",
       "      <th>Search Volume</th>\n",
       "      <th>Keyword Difficulty</th>\n",
       "      <th>CPC</th>\n",
       "      <th>URL</th>\n",
       "      <th>Traffic</th>\n",
       "      <th>Competition</th>\n",
       "      <th>Number of Results</th>\n",
       "    </tr>\n",
       "  </thead>\n",
       "  <tbody>\n",
       "    <tr>\n",
       "      <th>0</th>\n",
       "      <td>0</td>\n",
       "      <td>dunkin donuts</td>\n",
       "      <td>1</td>\n",
       "      <td>1</td>\n",
       "      <td>2740000</td>\n",
       "      <td>88.99</td>\n",
       "      <td>2.24</td>\n",
       "      <td>https://www.dunkindonuts.com/</td>\n",
       "      <td>2192000</td>\n",
       "      <td>0.09</td>\n",
       "      <td>35000000</td>\n",
       "    </tr>\n",
       "    <tr>\n",
       "      <th>1</th>\n",
       "      <td>1</td>\n",
       "      <td>dunkin donuts near me</td>\n",
       "      <td>1</td>\n",
       "      <td>1</td>\n",
       "      <td>823000</td>\n",
       "      <td>83.58</td>\n",
       "      <td>2.32</td>\n",
       "      <td>https://www.dunkindonuts.com/en/locations</td>\n",
       "      <td>658400</td>\n",
       "      <td>0.01</td>\n",
       "      <td>85</td>\n",
       "    </tr>\n",
       "    <tr>\n",
       "      <th>2</th>\n",
       "      <td>2</td>\n",
       "      <td>dunkin donuts menu</td>\n",
       "      <td>1</td>\n",
       "      <td>1</td>\n",
       "      <td>550000</td>\n",
       "      <td>86.33</td>\n",
       "      <td>1.78</td>\n",
       "      <td>https://www.dunkindonuts.com/en/menu</td>\n",
       "      <td>440000</td>\n",
       "      <td>0.02</td>\n",
       "      <td>30200000</td>\n",
       "    </tr>\n",
       "    <tr>\n",
       "      <th>3</th>\n",
       "      <td>3</td>\n",
       "      <td>donuts</td>\n",
       "      <td>1</td>\n",
       "      <td>1</td>\n",
       "      <td>823000</td>\n",
       "      <td>81.85</td>\n",
       "      <td>1.54</td>\n",
       "      <td>https://www.dunkindonuts.com/</td>\n",
       "      <td>386810</td>\n",
       "      <td>0.04</td>\n",
       "      <td>321000000</td>\n",
       "    </tr>\n",
       "    <tr>\n",
       "      <th>4</th>\n",
       "      <td>4</td>\n",
       "      <td>dd</td>\n",
       "      <td>1</td>\n",
       "      <td>1</td>\n",
       "      <td>301000</td>\n",
       "      <td>84.47</td>\n",
       "      <td>2.53</td>\n",
       "      <td>https://www.dunkindonuts.com/</td>\n",
       "      <td>240800</td>\n",
       "      <td>0.02</td>\n",
       "      <td>871000000</td>\n",
       "    </tr>\n",
       "  </tbody>\n",
       "</table>\n",
       "</div>"
      ],
      "text/plain": [
       "   Unnamed: 0                Keyword  Position  Previous position  \\\n",
       "0           0          dunkin donuts         1                  1   \n",
       "1           1  dunkin donuts near me         1                  1   \n",
       "2           2     dunkin donuts menu         1                  1   \n",
       "3           3                 donuts         1                  1   \n",
       "4           4                     dd         1                  1   \n",
       "\n",
       "   Search Volume  Keyword Difficulty   CPC  \\\n",
       "0        2740000               88.99  2.24   \n",
       "1         823000               83.58  2.32   \n",
       "2         550000               86.33  1.78   \n",
       "3         823000               81.85  1.54   \n",
       "4         301000               84.47  2.53   \n",
       "\n",
       "                                         URL  Traffic  Competition  \\\n",
       "0              https://www.dunkindonuts.com/  2192000         0.09   \n",
       "1  https://www.dunkindonuts.com/en/locations   658400         0.01   \n",
       "2       https://www.dunkindonuts.com/en/menu   440000         0.02   \n",
       "3              https://www.dunkindonuts.com/   386810         0.04   \n",
       "4              https://www.dunkindonuts.com/   240800         0.02   \n",
       "\n",
       "   Number of Results  \n",
       "0           35000000  \n",
       "1                 85  \n",
       "2           30200000  \n",
       "3          321000000  \n",
       "4          871000000  "
      ]
     },
     "execution_count": 11,
     "metadata": {},
     "output_type": "execute_result"
    }
   ],
   "source": [
    "df.head()"
   ]
  },
  {
   "cell_type": "code",
   "execution_count": 12,
   "metadata": {},
   "outputs": [
    {
     "data": {
      "text/plain": [
       "Unnamed: 0              int64\n",
       "Keyword                object\n",
       "Position                int64\n",
       "Previous position       int64\n",
       "Search Volume           int64\n",
       "Keyword Difficulty    float64\n",
       "CPC                   float64\n",
       "URL                    object\n",
       "Traffic                 int64\n",
       "Competition           float64\n",
       "Number of Results       int64\n",
       "dtype: object"
      ]
     },
     "execution_count": 12,
     "metadata": {},
     "output_type": "execute_result"
    }
   ],
   "source": [
    "df.dtypes"
   ]
  },
  {
   "cell_type": "markdown",
   "metadata": {},
   "source": [
    "Next, the keyword column will be separated because it is the label column. This will be dropped from the preprocessed data as it will not be entered into the regression model."
   ]
  },
  {
   "cell_type": "code",
   "execution_count": 13,
   "metadata": {},
   "outputs": [
    {
     "data": {
      "text/plain": [
       "Index(['Unnamed: 0', 'Position', 'Previous position', 'Search Volume',\n",
       "       'Keyword Difficulty', 'CPC', 'URL', 'Traffic', 'Competition',\n",
       "       'Number of Results'],\n",
       "      dtype='object')"
      ]
     },
     "execution_count": 13,
     "metadata": {},
     "output_type": "execute_result"
    }
   ],
   "source": [
    "df1=df.drop(columns='Keyword')\n",
    "keyword=df['Keyword']\n",
    "df1.head()\n",
    "df1.drop(columns='Unnamed: 0')\n",
    "df1.columns"
   ]
  },
  {
   "cell_type": "code",
   "execution_count": 14,
   "metadata": {},
   "outputs": [
    {
     "data": {
      "text/html": [
       "<div>\n",
       "<style scoped>\n",
       "    .dataframe tbody tr th:only-of-type {\n",
       "        vertical-align: middle;\n",
       "    }\n",
       "\n",
       "    .dataframe tbody tr th {\n",
       "        vertical-align: top;\n",
       "    }\n",
       "\n",
       "    .dataframe thead th {\n",
       "        text-align: right;\n",
       "    }\n",
       "</style>\n",
       "<table border=\"1\" class=\"dataframe\">\n",
       "  <thead>\n",
       "    <tr style=\"text-align: right;\">\n",
       "      <th></th>\n",
       "      <th>Position</th>\n",
       "      <th>Previous position</th>\n",
       "      <th>Search Volume</th>\n",
       "      <th>Keyword Difficulty</th>\n",
       "      <th>CPC</th>\n",
       "      <th>Traffic</th>\n",
       "      <th>Competition</th>\n",
       "      <th>Number of Results</th>\n",
       "    </tr>\n",
       "  </thead>\n",
       "  <tbody>\n",
       "    <tr>\n",
       "      <th>0</th>\n",
       "      <td>1</td>\n",
       "      <td>1</td>\n",
       "      <td>2740000</td>\n",
       "      <td>88.99</td>\n",
       "      <td>2.24</td>\n",
       "      <td>2192000</td>\n",
       "      <td>0.09</td>\n",
       "      <td>35000000</td>\n",
       "    </tr>\n",
       "    <tr>\n",
       "      <th>1</th>\n",
       "      <td>1</td>\n",
       "      <td>1</td>\n",
       "      <td>823000</td>\n",
       "      <td>83.58</td>\n",
       "      <td>2.32</td>\n",
       "      <td>658400</td>\n",
       "      <td>0.01</td>\n",
       "      <td>85</td>\n",
       "    </tr>\n",
       "    <tr>\n",
       "      <th>2</th>\n",
       "      <td>1</td>\n",
       "      <td>1</td>\n",
       "      <td>550000</td>\n",
       "      <td>86.33</td>\n",
       "      <td>1.78</td>\n",
       "      <td>440000</td>\n",
       "      <td>0.02</td>\n",
       "      <td>30200000</td>\n",
       "    </tr>\n",
       "    <tr>\n",
       "      <th>3</th>\n",
       "      <td>1</td>\n",
       "      <td>1</td>\n",
       "      <td>823000</td>\n",
       "      <td>81.85</td>\n",
       "      <td>1.54</td>\n",
       "      <td>386810</td>\n",
       "      <td>0.04</td>\n",
       "      <td>321000000</td>\n",
       "    </tr>\n",
       "    <tr>\n",
       "      <th>4</th>\n",
       "      <td>1</td>\n",
       "      <td>1</td>\n",
       "      <td>301000</td>\n",
       "      <td>84.47</td>\n",
       "      <td>2.53</td>\n",
       "      <td>240800</td>\n",
       "      <td>0.02</td>\n",
       "      <td>871000000</td>\n",
       "    </tr>\n",
       "  </tbody>\n",
       "</table>\n",
       "</div>"
      ],
      "text/plain": [
       "   Position  Previous position  Search Volume  Keyword Difficulty   CPC  \\\n",
       "0         1                  1        2740000               88.99  2.24   \n",
       "1         1                  1         823000               83.58  2.32   \n",
       "2         1                  1         550000               86.33  1.78   \n",
       "3         1                  1         823000               81.85  1.54   \n",
       "4         1                  1         301000               84.47  2.53   \n",
       "\n",
       "   Traffic  Competition  Number of Results  \n",
       "0  2192000         0.09           35000000  \n",
       "1   658400         0.01                 85  \n",
       "2   440000         0.02           30200000  \n",
       "3   386810         0.04          321000000  \n",
       "4   240800         0.02          871000000  "
      ]
     },
     "execution_count": 14,
     "metadata": {},
     "output_type": "execute_result"
    }
   ],
   "source": [
    "continuous_var=df1.drop(columns='URL')\n",
    "\n",
    "continuous_var.drop(columns='Unnamed: 0', inplace=True)\n",
    "continuous_var.head()\n"
   ]
  },
  {
   "cell_type": "code",
   "execution_count": 15,
   "metadata": {},
   "outputs": [
    {
     "data": {
      "text/html": [
       "<div>\n",
       "<style scoped>\n",
       "    .dataframe tbody tr th:only-of-type {\n",
       "        vertical-align: middle;\n",
       "    }\n",
       "\n",
       "    .dataframe tbody tr th {\n",
       "        vertical-align: top;\n",
       "    }\n",
       "\n",
       "    .dataframe thead th {\n",
       "        text-align: right;\n",
       "    }\n",
       "</style>\n",
       "<table border=\"1\" class=\"dataframe\">\n",
       "  <thead>\n",
       "    <tr style=\"text-align: right;\">\n",
       "      <th></th>\n",
       "      <th>Position</th>\n",
       "      <th>Previous position</th>\n",
       "      <th>Search Volume</th>\n",
       "      <th>Keyword Difficulty</th>\n",
       "      <th>CPC</th>\n",
       "      <th>Traffic</th>\n",
       "      <th>Competition</th>\n",
       "      <th>Number of Results</th>\n",
       "    </tr>\n",
       "  </thead>\n",
       "  <tbody>\n",
       "    <tr>\n",
       "      <th>0</th>\n",
       "      <td>1</td>\n",
       "      <td>1</td>\n",
       "      <td>2740000</td>\n",
       "      <td>88.99</td>\n",
       "      <td>2.24</td>\n",
       "      <td>2192000</td>\n",
       "      <td>0.09</td>\n",
       "      <td>35000000</td>\n",
       "    </tr>\n",
       "    <tr>\n",
       "      <th>1</th>\n",
       "      <td>1</td>\n",
       "      <td>1</td>\n",
       "      <td>823000</td>\n",
       "      <td>83.58</td>\n",
       "      <td>2.32</td>\n",
       "      <td>658400</td>\n",
       "      <td>0.01</td>\n",
       "      <td>85</td>\n",
       "    </tr>\n",
       "    <tr>\n",
       "      <th>2</th>\n",
       "      <td>1</td>\n",
       "      <td>1</td>\n",
       "      <td>550000</td>\n",
       "      <td>86.33</td>\n",
       "      <td>1.78</td>\n",
       "      <td>440000</td>\n",
       "      <td>0.02</td>\n",
       "      <td>30200000</td>\n",
       "    </tr>\n",
       "    <tr>\n",
       "      <th>3</th>\n",
       "      <td>1</td>\n",
       "      <td>1</td>\n",
       "      <td>823000</td>\n",
       "      <td>81.85</td>\n",
       "      <td>1.54</td>\n",
       "      <td>386810</td>\n",
       "      <td>0.04</td>\n",
       "      <td>321000000</td>\n",
       "    </tr>\n",
       "    <tr>\n",
       "      <th>4</th>\n",
       "      <td>1</td>\n",
       "      <td>1</td>\n",
       "      <td>301000</td>\n",
       "      <td>84.47</td>\n",
       "      <td>2.53</td>\n",
       "      <td>240800</td>\n",
       "      <td>0.02</td>\n",
       "      <td>871000000</td>\n",
       "    </tr>\n",
       "  </tbody>\n",
       "</table>\n",
       "</div>"
      ],
      "text/plain": [
       "   Position  Previous position  Search Volume  Keyword Difficulty   CPC  \\\n",
       "0         1                  1        2740000               88.99  2.24   \n",
       "1         1                  1         823000               83.58  2.32   \n",
       "2         1                  1         550000               86.33  1.78   \n",
       "3         1                  1         823000               81.85  1.54   \n",
       "4         1                  1         301000               84.47  2.53   \n",
       "\n",
       "   Traffic  Competition  Number of Results  \n",
       "0  2192000         0.09           35000000  \n",
       "1   658400         0.01                 85  \n",
       "2   440000         0.02           30200000  \n",
       "3   386810         0.04          321000000  \n",
       "4   240800         0.02          871000000  "
      ]
     },
     "execution_count": 15,
     "metadata": {},
     "output_type": "execute_result"
    }
   ],
   "source": [
    "cat_var=['URL']\n",
    "continuous_var.head()"
   ]
  },
  {
   "cell_type": "markdown",
   "metadata": {},
   "source": [
    "## Preprocessing\n",
    "\n",
    "The continuous variables will be scaled and centered, since many predictive models perform better when all variables have a similar average and variance. In addition, we ensure there are no missing rows or columns, which we already established. Next, the independent variables are placed in an array (x) and target variable (position) is placed in a second array (y)."
   ]
  },
  {
   "cell_type": "code",
   "execution_count": 16,
   "metadata": {},
   "outputs": [
    {
     "data": {
      "text/html": [
       "<div>\n",
       "<style scoped>\n",
       "    .dataframe tbody tr th:only-of-type {\n",
       "        vertical-align: middle;\n",
       "    }\n",
       "\n",
       "    .dataframe tbody tr th {\n",
       "        vertical-align: top;\n",
       "    }\n",
       "\n",
       "    .dataframe thead th {\n",
       "        text-align: right;\n",
       "    }\n",
       "</style>\n",
       "<table border=\"1\" class=\"dataframe\">\n",
       "  <thead>\n",
       "    <tr style=\"text-align: right;\">\n",
       "      <th></th>\n",
       "      <th>0</th>\n",
       "      <th>1</th>\n",
       "      <th>2</th>\n",
       "      <th>3</th>\n",
       "      <th>4</th>\n",
       "      <th>5</th>\n",
       "      <th>6</th>\n",
       "      <th>7</th>\n",
       "    </tr>\n",
       "  </thead>\n",
       "  <tbody>\n",
       "    <tr>\n",
       "      <th>0</th>\n",
       "      <td>-1.542663</td>\n",
       "      <td>-1.49188</td>\n",
       "      <td>50.418352</td>\n",
       "      <td>1.148294</td>\n",
       "      <td>0.436290</td>\n",
       "      <td>91.828251</td>\n",
       "      <td>-0.177323</td>\n",
       "      <td>-0.203623</td>\n",
       "    </tr>\n",
       "    <tr>\n",
       "      <th>1</th>\n",
       "      <td>-1.542663</td>\n",
       "      <td>-1.49188</td>\n",
       "      <td>15.113543</td>\n",
       "      <td>0.380464</td>\n",
       "      <td>0.456939</td>\n",
       "      <td>27.566427</td>\n",
       "      <td>-0.473826</td>\n",
       "      <td>-0.228116</td>\n",
       "    </tr>\n",
       "    <tr>\n",
       "      <th>2</th>\n",
       "      <td>-1.542663</td>\n",
       "      <td>-1.49188</td>\n",
       "      <td>10.085784</td>\n",
       "      <td>0.770766</td>\n",
       "      <td>0.317556</td>\n",
       "      <td>18.414899</td>\n",
       "      <td>-0.436763</td>\n",
       "      <td>-0.206982</td>\n",
       "    </tr>\n",
       "    <tr>\n",
       "      <th>3</th>\n",
       "      <td>-1.542663</td>\n",
       "      <td>-1.49188</td>\n",
       "      <td>15.113543</td>\n",
       "      <td>0.134928</td>\n",
       "      <td>0.255607</td>\n",
       "      <td>16.186100</td>\n",
       "      <td>-0.362637</td>\n",
       "      <td>-0.003482</td>\n",
       "    </tr>\n",
       "    <tr>\n",
       "      <th>4</th>\n",
       "      <td>-1.542663</td>\n",
       "      <td>-1.49188</td>\n",
       "      <td>5.500026</td>\n",
       "      <td>0.506780</td>\n",
       "      <td>0.511144</td>\n",
       "      <td>10.067902</td>\n",
       "      <td>-0.436763</td>\n",
       "      <td>0.381404</td>\n",
       "    </tr>\n",
       "  </tbody>\n",
       "</table>\n",
       "</div>"
      ],
      "text/plain": [
       "          0        1          2         3         4          5         6  \\\n",
       "0 -1.542663 -1.49188  50.418352  1.148294  0.436290  91.828251 -0.177323   \n",
       "1 -1.542663 -1.49188  15.113543  0.380464  0.456939  27.566427 -0.473826   \n",
       "2 -1.542663 -1.49188  10.085784  0.770766  0.317556  18.414899 -0.436763   \n",
       "3 -1.542663 -1.49188  15.113543  0.134928  0.255607  16.186100 -0.362637   \n",
       "4 -1.542663 -1.49188   5.500026  0.506780  0.511144  10.067902 -0.436763   \n",
       "\n",
       "          7  \n",
       "0 -0.203623  \n",
       "1 -0.228116  \n",
       "2 -0.206982  \n",
       "3 -0.003482  \n",
       "4  0.381404  "
      ]
     },
     "execution_count": 16,
     "metadata": {},
     "output_type": "execute_result"
    }
   ],
   "source": [
    "scaler = StandardScaler()\n",
    "df_scaled = pd.DataFrame(scaler.fit_transform(continuous_var))\n",
    "df_scaled.columns\n",
    "df_scaled.head()\n",
    "\n",
    "\n",
    "\n"
   ]
  },
  {
   "cell_type": "code",
   "execution_count": 17,
   "metadata": {},
   "outputs": [],
   "source": [
    "df_scaled.columns=[ 'Position', 'Previous position', 'Search Volume',\n",
    "       'Keyword Difficulty', 'CPC', 'Traffic', 'Competition',\n",
    "       'Number of Results']"
   ]
  },
  {
   "cell_type": "code",
   "execution_count": 18,
   "metadata": {},
   "outputs": [],
   "source": [
    "df_scaled['URL'] = df1[cat_var]"
   ]
  },
  {
   "cell_type": "code",
   "execution_count": 19,
   "metadata": {},
   "outputs": [],
   "source": [
    "df_scaled.head()\n",
    "df_new = pd.get_dummies(df_scaled,dummy_na=True)\n",
    "X=df_new.drop(columns='Position')\n",
    "y=df_new['Position']"
   ]
  },
  {
   "cell_type": "markdown",
   "metadata": {},
   "source": [
    "## Training and Testing the Model\n",
    "Next, we split the data into training and testing sets The training set will be used to cross_validate the hyperparameters for the model and the testing set will be used to validate the model.\n",
    "\n",
    "First, I will make a model with default parameters.\n"
   ]
  },
  {
   "cell_type": "code",
   "execution_count": 22,
   "metadata": {},
   "outputs": [],
   "source": [
    "#Split into test/train\n",
    "from sklearn.model_selection import train_test_split\n",
    "X_train, X_test, y_train, y_test= train_test_split(X, y, test_size=0.33, random_state=42)\n"
   ]
  },
  {
   "cell_type": "code",
   "execution_count": 23,
   "metadata": {},
   "outputs": [
    {
     "name": "stdout",
     "output_type": "stream",
     "text": [
      "Intercept: \n",
      " 16215319062.667843\n",
      "Coefficients: \n",
      " [ 9.43617476e-01  1.10099437e-02 -2.02629560e-02 -9.24775651e-04\n",
      " -1.57226366e-02  2.69680597e-03  9.06214496e-03 -1.62153191e+10\n",
      "  2.96696590e+12 -1.62153191e+10 -1.62153191e+10 -1.62153191e+10\n",
      "  2.15738752e+11  3.77941663e+11  3.86828305e+10 -1.62153191e+10\n",
      " -1.62153191e+10  1.69782246e+11 -1.62153191e+10 -1.62153191e+10\n",
      " -1.62153191e+10 -1.62153191e+10 -1.62153191e+10 -1.62153191e+10\n",
      " -7.45925635e+10 -1.62153191e+10  3.92938262e+10 -1.62153191e+10\n",
      " -1.62153191e+10 -1.62153191e+10  3.04326847e+11 -1.62153191e+10\n",
      " -1.62153191e+10 -2.02759815e+11 -1.62153191e+10 -1.62153191e+10\n",
      " -1.62153191e+10 -1.62153191e+10 -1.62153191e+10 -1.62153191e+10\n",
      " -1.62153191e+10 -1.62153191e+10 -1.17195282e+11 -1.62153191e+10\n",
      "  3.32438526e+11 -1.83628173e+11 -6.01441283e+09 -1.62153191e+10\n",
      " -1.62153191e+10 -1.62153191e+10 -1.62153191e+10 -1.62153191e+10\n",
      " -1.62153191e+10 -1.62153191e+10 -1.62153191e+10 -1.62153191e+10\n",
      " -1.62153191e+10 -1.62153191e+10 -1.62153191e+10 -1.62153191e+10\n",
      " -1.62153191e+10 -1.62153191e+10  7.27063856e+10 -1.62153191e+10\n",
      " -1.62153191e+10 -1.62153191e+10 -1.62153191e+10 -1.62153191e+10\n",
      "  8.47774154e+09 -3.79229318e+10 -1.62153191e+10 -1.62153191e+10\n",
      " -1.62153191e+10 -1.62153191e+10 -1.21997582e+10 -1.62153191e+10\n",
      " -1.62153191e+10 -1.62153191e+10 -1.62153191e+10  7.53734733e+10\n",
      " -1.62153191e+10 -1.62153191e+10 -1.62153191e+10 -1.62153191e+10\n",
      " -1.62153191e+10 -1.62153191e+10 -1.62153191e+10 -1.62153191e+10\n",
      " -2.79760580e+10 -1.62153191e+10 -1.01933522e+11 -1.62153191e+10\n",
      " -1.62153191e+10 -1.11046687e+10 -1.62153191e+10  7.45672220e+10\n",
      " -1.62153191e+10 -1.62153191e+10 -1.62153191e+10 -1.62153191e+10\n",
      " -1.62153191e+10 -1.62153191e+10 -1.62153191e+10 -1.13887873e+11\n",
      "  7.41238889e+10 -1.62153191e+10 -1.62153191e+10 -1.62153191e+10\n",
      " -1.62153191e+10 -1.62153191e+10 -1.62153191e+10 -1.62153191e+10\n",
      " -1.62153191e+10 -1.62153191e+10 -1.62153191e+10 -1.62153191e+10\n",
      " -1.62153191e+10 -1.62153191e+10 -1.62153191e+10 -1.62153191e+10\n",
      " -1.62153191e+10 -1.62153191e+10 -1.29077220e+11  2.59978787e+10\n",
      " -1.62153191e+10 -1.62153191e+10 -1.62153191e+10  1.44165069e+11\n",
      " -1.62153191e+10 -1.62153191e+10 -1.62153191e+10 -1.62153191e+10\n",
      "  7.21694998e+10 -1.62153191e+10 -1.62153191e+10 -1.62153191e+10\n",
      " -1.62153191e+10 -1.62153191e+10 -1.62153191e+10 -1.62153191e+10\n",
      "  3.20425870e+10 -1.62153191e+10 -1.62153191e+10 -1.62153191e+10\n",
      " -1.62153191e+10 -1.62153191e+10 -1.62153191e+10  3.74226206e+10\n",
      " -1.62153191e+10 -1.62153191e+10 -1.62153191e+10 -1.62153191e+10\n",
      " -1.62153191e+10 -1.62153191e+10 -1.62153191e+10 -1.62153191e+10\n",
      " -1.62153191e+10 -3.87872641e+11 -1.62153191e+10 -1.62153191e+10\n",
      " -1.62153191e+10 -1.62153191e+10 -1.62153191e+10 -2.20811687e+10\n",
      "  1.69894998e+10 -1.62153191e+10 -1.62153191e+10 -1.62153191e+10\n",
      " -1.62153191e+10 -1.62153191e+10 -1.62153191e+10 -1.62153191e+10\n",
      " -1.62153191e+10 -1.62153191e+10 -1.62153191e+10 -1.62153191e+10\n",
      " -1.62153191e+10  5.98921497e+10 -1.62153191e+10 -1.62153191e+10\n",
      " -1.62153191e+10 -1.62153191e+10 -1.62153191e+10 -1.63624335e+11\n",
      " -1.62153191e+10 -1.62153191e+10 -1.62153191e+10 -1.62153191e+10\n",
      " -2.86254609e+10 -1.62153191e+10 -1.62153191e+10 -1.62153191e+10\n",
      " -1.62153191e+10 -1.62153191e+10 -4.79637428e+10 -1.62153191e+10\n",
      " -7.79086982e+10 -1.62153191e+10 -1.62153191e+10  4.37248880e+10\n",
      " -1.62153191e+10 -1.62153191e+10 -1.62153191e+10 -1.62153191e+10\n",
      " -1.62153191e+10 -1.62153191e+10 -1.62153191e+10 -1.62153191e+10\n",
      " -1.62153191e+10 -1.62153191e+10 -1.12944483e+11  4.79746029e+10\n",
      " -2.92013819e+10 -1.62153191e+10 -1.62153191e+10 -1.62153191e+10\n",
      " -1.62153191e+10 -1.62153191e+10 -1.62153191e+10 -1.62153191e+10\n",
      " -1.62153191e+10 -2.99931719e+10 -1.62153191e+10 -1.62153191e+10\n",
      " -1.62153191e+10 -1.62153191e+10 -1.62153191e+10 -1.62153191e+10\n",
      " -1.62153191e+10 -1.62153191e+10 -1.62153191e+10 -1.62153191e+10\n",
      " -1.62153191e+10 -4.15988785e+10 -1.62153191e+10 -1.62153191e+10\n",
      " -1.62153191e+10 -1.62153191e+10 -1.62153191e+10 -1.62153191e+10\n",
      " -1.62153191e+10 -1.62153191e+10 -1.62153191e+10 -1.86689387e+10\n",
      " -1.62153191e+10 -5.86096892e+10 -1.62153191e+10 -2.26323545e+10\n",
      " -1.62153191e+10 -1.62153191e+10 -1.62153191e+10 -1.62153191e+10\n",
      " -9.24701573e+10  5.54319836e+10 -1.62153191e+10 -1.62153191e+10\n",
      " -3.18169205e+10 -1.62153191e+10 -1.62153191e+10  2.24140902e+10\n",
      " -1.62153191e+10  3.89995709e+10 -1.62153191e+10 -8.14126847e+10\n",
      " -1.62153191e+10 -1.62153191e+10 -1.62153191e+10 -1.62153191e+10\n",
      " -1.62153191e+10 -1.62153191e+10 -1.62153191e+10 -1.62153191e+10\n",
      " -1.62153191e+10 -3.03389727e+09 -1.62153191e+10 -1.62153191e+10\n",
      " -1.62153191e+10 -1.62153191e+10 -1.62153191e+10 -1.62153191e+10\n",
      "  3.18969727e-01 -1.62153191e+10 -1.62153191e+10 -1.62153191e+10\n",
      " -1.62153191e+10 -1.62153191e+10 -1.62153191e+10 -1.62153191e+10\n",
      " -1.62153191e+10 -1.62153191e+10 -1.62153191e+10  3.27961097e-06\n",
      " -1.62153191e+10 -1.62153191e+10 -1.62153191e+10 -1.62153191e+10\n",
      " -1.62153191e+10 -1.62153191e+10 -1.62153191e+10  2.70765018e-06\n",
      " -1.00661409e-07 -1.62153191e+10 -1.62153191e+10 -1.62153191e+10\n",
      " -1.62153191e+10 -1.62153191e+10 -1.62153191e+10 -1.62153191e+10\n",
      " -1.62153191e+10 -1.62153191e+10  8.33863086e-07 -1.62153191e+10\n",
      " -1.62153191e+10 -1.62153191e+10 -1.62153191e+10 -1.62153191e+10\n",
      " -9.98312748e-07 -1.62153191e+10 -1.62153191e+10 -1.62153191e+10\n",
      " -8.43789454e-07 -1.19027243e-06 -1.62153191e+10 -1.62153191e+10\n",
      " -1.62153191e+10 -1.62153191e+10 -1.62153191e+10  2.87039267e-07\n",
      " -1.62153191e+10 -3.69893686e-06 -1.62153191e+10 -3.18902363e-07\n",
      " -1.62153191e+10 -1.62153191e+10 -8.21301163e-07 -1.62153191e+10\n",
      " -1.62153191e+10 -1.62153191e+10 -5.10317763e-07 -2.72390119e-07\n",
      " -1.62153191e+10 -1.62153191e+10 -1.62153191e+10 -1.62153191e+10\n",
      " -1.62153191e+10  1.15349126e-06 -1.62153191e+10 -2.43242226e-07\n",
      " -5.56289966e-07 -1.62153191e+10 -1.62153191e+10 -1.62153191e+10\n",
      " -3.89578247e-07 -1.62153191e+10 -1.62153191e+10 -1.62153191e+10\n",
      " -5.06539255e-16  1.45716772e-16  1.11022302e-16 -1.62153191e+10\n",
      " -1.62153191e+10 -1.62153191e+10 -1.62153191e+10 -1.62153191e+10\n",
      " -1.62153191e+10 -1.62153191e+10 -1.62153191e+10 -1.62153191e+10\n",
      " -9.43689571e-16 -2.75387352e-16 -1.62153191e+10 -1.62153191e+10\n",
      " -1.62153191e+10 -3.88578059e-16  9.71445147e-16  1.13797860e-15\n",
      " -1.62153191e+10 -9.15933995e-16 -1.62153191e+10 -1.62153191e+10\n",
      " -1.62153191e+10 -2.77555756e-17 -1.62153191e+10 -1.62153191e+10\n",
      " -1.38777878e-17 -1.62153191e+10  1.11022302e-16 -1.62153191e+10\n",
      " -3.88578059e-16 -1.62153191e+10 -1.62153191e+10 -1.62153191e+10\n",
      " -1.62153191e+10 -5.55111512e-16 -1.62153191e+10 -1.62153191e+10\n",
      " -1.62153191e+10 -1.62153191e+10  4.16333634e-16 -1.62153191e+10\n",
      "  2.22044605e-16 -1.62153191e+10 -1.62153191e+10 -1.62153191e+10\n",
      " -1.62153191e+10 -1.62153191e+10 -1.62153191e+10 -1.60096003e-16\n",
      " -1.62153191e+10 -1.62153191e+10  3.74700271e-16 -1.62153191e+10\n",
      " -1.62153191e+10 -1.62153191e+10  2.77555756e-16 -1.62153191e+10\n",
      " -2.77555756e-17 -1.62153191e+10 -1.62153191e+10 -1.62153191e+10\n",
      " -1.62153191e+10 -1.62153191e+10 -1.62153191e+10 -1.62153191e+10\n",
      " -1.62153191e+10  5.82867088e-16 -1.62153191e+10 -1.62153191e+10\n",
      " -1.62153191e+10 -1.62153191e+10 -1.24900090e-16 -1.62153191e+10\n",
      "  1.15413321e-16  2.49800181e-16 -1.62153191e+10 -1.62153191e+10\n",
      " -1.62153191e+10 -1.62153191e+10 -1.62153191e+10 -1.62153191e+10\n",
      " -1.62153191e+10 -1.62153191e+10 -1.62153191e+10 -1.62153191e+10\n",
      " -8.60422844e-16 -1.62153191e+10  1.80411242e-16 -1.62153191e+10\n",
      "  1.66533454e-16 -1.62153191e+10 -1.62153191e+10 -2.49800181e-16\n",
      " -1.62153191e+10 -1.62153191e+10 -1.62153191e+10 -1.62153191e+10\n",
      " -1.62153191e+10 -1.62153191e+10 -1.62153191e+10 -1.62153191e+10\n",
      " -1.62153191e+10 -1.62153191e+10 -7.97972799e-16 -1.62153191e+10\n",
      " -1.62153191e+10 -1.62153191e+10 -1.62153191e+10  1.21430643e-16\n",
      " -1.62153191e+10 -1.62153191e+10 -1.62153191e+10 -1.62153191e+10\n",
      " -1.62153191e+10 -1.62153191e+10 -1.62153191e+10 -1.62153191e+10\n",
      " -1.62153191e+10 -1.62153191e+10 -1.62153191e+10 -1.62153191e+10\n",
      " -1.62153191e+10 -1.62153191e+10 -1.62153191e+10  7.45931095e-16\n",
      " -1.62153191e+10 -1.62153191e+10 -1.62153191e+10 -4.44089210e-16\n",
      " -1.62153191e+10 -1.62153191e+10 -1.62153191e+10 -1.62153191e+10\n",
      " -1.62153191e+10 -1.62153191e+10 -1.62153191e+10 -1.62153191e+10\n",
      " -2.22044605e-16 -1.62153191e+10 -2.77555756e-17 -8.32667268e-17\n",
      "  5.55111512e-16 -1.62153191e+10 -1.62153191e+10 -1.62153191e+10\n",
      " -1.62153191e+10 -1.62153191e+10 -1.62153191e+10 -1.62153191e+10\n",
      " -1.62153191e+10 -1.62153191e+10 -1.94289029e-16 -1.62153191e+10\n",
      " -1.62153191e+10 -1.62153191e+10 -1.62153191e+10  2.22044605e-16\n",
      " -1.62153191e+10 -1.62153191e+10 -1.62153191e+10 -1.62153191e+10\n",
      " -1.62153191e+10 -4.37150316e-16 -1.62153191e+10 -1.62153191e+10\n",
      " -1.62153191e+10 -1.62153191e+10 -1.62153191e+10 -1.62153191e+10\n",
      " -1.62153191e+10 -1.62153191e+10 -1.62153191e+10 -1.62153191e+10\n",
      "  3.53883589e-16 -1.62153191e+10  2.65802645e-16 -1.38777878e-16\n",
      " -1.62153191e+10 -1.62153191e+10 -1.62153191e+10 -1.62153191e+10\n",
      " -1.62153191e+10 -4.16333634e-16 -1.62153191e+10 -1.62153191e+10\n",
      "  1.11022302e-16 -3.33066907e-16 -1.62153191e+10 -1.62153191e+10\n",
      " -1.62153191e+10 -1.62153191e+10 -1.62153191e+10 -1.62153191e+10\n",
      " -1.62153191e+10 -1.62153191e+10 -1.62153191e+10 -1.62153191e+10\n",
      " -1.62153191e+10 -1.62153191e+10 -1.62153191e+10 -1.62153191e+10\n",
      " -1.62153191e+10 -1.62153191e+10 -1.62153191e+10 -1.62153191e+10\n",
      " -1.62153191e+10 -1.62153191e+10 -1.62153191e+10 -1.62153191e+10\n",
      " -1.62153191e+10 -1.62153191e+10 -1.62153191e+10 -1.62153191e+10\n",
      " -1.62153191e+10 -1.62153191e+10 -1.62153191e+10 -1.62153191e+10\n",
      "  6.10622664e-16  2.08600498e-16  5.55111512e-17 -1.62153191e+10\n",
      "  4.22405166e-16  4.16333634e-16 -1.62153191e+10 -1.62153191e+10\n",
      " -1.62153191e+10 -1.62153191e+10 -1.62153191e+10 -1.62153191e+10\n",
      " -1.62153191e+10 -3.19189120e-16 -1.62153191e+10 -1.62153191e+10\n",
      " -1.62153191e+10 -3.44342610e-16 -1.62153191e+10 -6.07153217e-17\n",
      " -1.62153191e+10 -1.62153191e+10 -3.64291930e-16  1.47831575e-16\n",
      " -4.44089210e-16 -1.62153191e+10 -1.62153191e+10 -1.62153191e+10\n",
      " -1.62153191e+10  5.37294465e-16 -1.62153191e+10 -9.15933995e-16\n",
      " -1.62153191e+10 -1.62153191e+10 -1.62153191e+10 -1.62153191e+10\n",
      " -1.62153191e+10 -6.66133815e-16 -1.62153191e+10  1.66533454e-16\n",
      " -1.62153191e+10 -1.62153191e+10 -1.62153191e+10 -1.62153191e+10\n",
      " -1.62153191e+10 -1.62153191e+10 -1.62153191e+10 -1.62153191e+10\n",
      " -1.62153191e+10  7.77156117e-16 -1.62153191e+10 -1.62153191e+10\n",
      " -1.62153191e+10 -1.62153191e+10 -1.62153191e+10 -1.62153191e+10\n",
      " -1.62153191e+10 -1.62153191e+10 -1.62153191e+10 -1.62153191e+10\n",
      " -1.62153191e+10 -1.62153191e+10 -1.62153191e+10 -1.62153191e+10\n",
      " -1.62153191e+10 -1.62153191e+10 -1.62153191e+10 -1.62153191e+10\n",
      " -1.62153191e+10  5.54124256e-16 -1.62153191e+10 -1.62153191e+10\n",
      " -1.62153191e+10 -1.62153191e+10 -1.62153191e+10 -1.62153191e+10\n",
      " -1.62153191e+10 -2.22044605e-16 -1.62153191e+10 -1.62153191e+10\n",
      " -1.62153191e+10 -1.62153191e+10  1.66533454e-16 -1.62153191e+10\n",
      " -1.62153191e+10 -1.62153191e+10 -9.36750677e-17 -1.62153191e+10\n",
      " -1.62153191e+10  9.99200722e-16  5.68989300e-16 -1.62153191e+10\n",
      " -1.62153191e+10 -1.62153191e+10 -1.62153191e+10 -1.62153191e+10\n",
      " -1.62153191e+10 -2.08166817e-17 -1.62153191e+10 -3.33066907e-16\n",
      " -1.62153191e+10 -1.62153191e+10 -1.62153191e+10 -1.41867854e-16\n",
      "  2.77555756e-17 -1.62153191e+10 -1.62153191e+10 -1.62153191e+10\n",
      " -1.62153191e+10 -1.62153191e+10 -1.62153191e+10 -1.62153191e+10\n",
      " -1.62153191e+10 -1.62153191e+10 -1.62153191e+10 -1.62153191e+10\n",
      " -1.62153191e+10 -1.62153191e+10 -1.62153191e+10 -1.62153191e+10\n",
      " -1.62153191e+10 -1.62153191e+10 -1.62153191e+10 -1.62153191e+10\n",
      " -1.62153191e+10 -1.62153191e+10 -1.62153191e+10 -1.62153191e+10\n",
      " -1.62153191e+10 -1.62153191e+10 -1.62153191e+10 -1.62153191e+10\n",
      " -1.62153191e+10 -1.62153191e+10 -1.62153191e+10 -1.62153191e+10\n",
      " -1.62153191e+10 -1.62153191e+10 -1.62153191e+10 -1.62153191e+10\n",
      " -1.62153191e+10 -1.62153191e+10 -1.62153191e+10 -1.62153191e+10\n",
      " -1.62153191e+10 -1.62153191e+10 -1.62153191e+10 -1.62153191e+10\n",
      " -1.62153191e+10 -1.62153191e+10 -1.62153191e+10 -1.62153191e+10\n",
      "  2.46793293e-16 -1.62153191e+10 -1.62153191e+10 -1.62153191e+10\n",
      " -1.62153191e+10 -1.62153191e+10 -1.62153191e+10 -1.62153191e+10\n",
      " -1.62153191e+10 -1.62153191e+10 -1.62153191e+10 -1.62153191e+10\n",
      " -1.62153191e+10 -1.62153191e+10 -1.62153191e+10 -9.24926097e-17\n",
      " -1.62153191e+10 -1.62153191e+10 -1.62153191e+10 -1.62153191e+10\n",
      " -1.62153191e+10 -1.62153191e+10 -1.62153191e+10 -1.62153191e+10\n",
      "  2.81892565e-16 -1.62153191e+10 -1.62153191e+10 -1.62153191e+10\n",
      " -1.62153191e+10 -1.62153191e+10 -1.62153191e+10 -1.62153191e+10\n",
      " -1.62153191e+10 -1.62153191e+10 -1.62153191e+10 -1.62153191e+10\n",
      " -1.62153191e+10 -1.62153191e+10 -1.62153191e+10 -1.62153191e+10\n",
      " -1.62153191e+10 -1.62153191e+10 -1.62153191e+10  1.96372307e-16\n",
      " -1.62153191e+10 -1.62153191e+10 -1.62153191e+10  1.11022302e-16\n",
      " -2.77555756e-17 -1.62153191e+10 -1.62153191e+10 -1.62153191e+10\n",
      " -1.62153191e+10  0.00000000e+00 -1.62153191e+10 -1.62153191e+10\n",
      " -1.62153191e+10 -1.62153191e+10 -1.62153191e+10 -1.62153191e+10\n",
      " -1.62153191e+10 -1.62153191e+10 -1.62153191e+10 -1.62153191e+10\n",
      " -1.62153191e+10 -1.62153191e+10 -1.62153191e+10 -1.62153191e+10\n",
      " -1.62153191e+10 -1.62153191e+10 -1.62153191e+10 -1.62153191e+10\n",
      " -1.62153191e+10 -1.62153191e+10 -1.62153191e+10 -1.62153191e+10\n",
      " -1.62153191e+10 -1.62153191e+10 -1.62153191e+10 -1.62153191e+10\n",
      " -1.62153191e+10 -1.62153191e+10 -1.62153191e+10 -1.62153191e+10\n",
      " -1.62153191e+10 -1.62153191e+10 -1.62153191e+10 -1.62153191e+10\n",
      " -1.62153191e+10 -1.62153191e+10 -1.62153191e+10 -1.62153191e+10\n",
      " -1.62153191e+10 -1.62153191e+10 -1.62153191e+10 -1.62153191e+10\n",
      " -1.62153191e+10 -1.62153191e+10 -1.62153191e+10 -1.62153191e+10\n",
      " -1.62153191e+10  0.00000000e+00 -1.62153191e+10 -1.62153191e+10\n",
      "  0.00000000e+00  1.11022302e-16 -1.62153191e+10 -1.62153191e+10\n",
      "  0.00000000e+00]\n"
     ]
    }
   ],
   "source": [
    "# with sklearn\n",
    "from sklearn.linear_model import LinearRegression\n",
    "regr = LinearRegression()\n",
    "regr.fit(X_train, y_train)\n",
    "\n",
    "print('Intercept: \\n', regr.intercept_)\n",
    "print('Coefficients: \\n', regr.coef_)"
   ]
  },
  {
   "cell_type": "code",
   "execution_count": 24,
   "metadata": {},
   "outputs": [],
   "source": [
    "y_pred=regr.predict(X_test)"
   ]
  },
  {
   "cell_type": "code",
   "execution_count": 39,
   "metadata": {},
   "outputs": [
    {
     "name": "stdout",
     "output_type": "stream",
     "text": [
      "Mean Absolute Error: 3081993102.57 degrees.\n",
      "Accuracy: -62395689130.96 %.\n"
     ]
    }
   ],
   "source": [
    "from sklearn.metrics import explained_variance_score\n",
    "explained_variance_score(y_test, y_pred)\n",
    "\n",
    "# Calculate the absolute errors\n",
    "errors = abs(y_pred - y_test)\n",
    "# Print out the mean absolute error (mae)\n",
    "print('Mean Absolute Error:', round(np.mean(errors), 2), 'degrees.')\n",
    "# Calculate mean absolute percentage error (MAPE)\n",
    "mape = 100 * (errors / y_test)\n",
    "# Calculate and display accuracy\n",
    "accuracy = 100 - np.mean(mape)\n",
    "print('Accuracy:', round(accuracy, 2), '%.')"
   ]
  },
  {
   "cell_type": "markdown",
   "metadata": {},
   "source": [
    "It looks like the URL column is skewing the model. Now lets try to drop the URL column and run the model again.\n"
   ]
  },
  {
   "cell_type": "code",
   "execution_count": 27,
   "metadata": {},
   "outputs": [
    {
     "data": {
      "text/html": [
       "<div>\n",
       "<style scoped>\n",
       "    .dataframe tbody tr th:only-of-type {\n",
       "        vertical-align: middle;\n",
       "    }\n",
       "\n",
       "    .dataframe tbody tr th {\n",
       "        vertical-align: top;\n",
       "    }\n",
       "\n",
       "    .dataframe thead th {\n",
       "        text-align: right;\n",
       "    }\n",
       "</style>\n",
       "<table border=\"1\" class=\"dataframe\">\n",
       "  <thead>\n",
       "    <tr style=\"text-align: right;\">\n",
       "      <th></th>\n",
       "      <th>Position</th>\n",
       "      <th>Previous position</th>\n",
       "      <th>Search Volume</th>\n",
       "      <th>Keyword Difficulty</th>\n",
       "      <th>CPC</th>\n",
       "      <th>Traffic</th>\n",
       "      <th>Competition</th>\n",
       "      <th>Number of Results</th>\n",
       "      <th>URL</th>\n",
       "    </tr>\n",
       "  </thead>\n",
       "  <tbody>\n",
       "    <tr>\n",
       "      <th>0</th>\n",
       "      <td>-1.542663</td>\n",
       "      <td>-1.49188</td>\n",
       "      <td>50.418352</td>\n",
       "      <td>1.148294</td>\n",
       "      <td>0.436290</td>\n",
       "      <td>91.828251</td>\n",
       "      <td>-0.177323</td>\n",
       "      <td>-0.203623</td>\n",
       "      <td>https://www.dunkindonuts.com/</td>\n",
       "    </tr>\n",
       "    <tr>\n",
       "      <th>1</th>\n",
       "      <td>-1.542663</td>\n",
       "      <td>-1.49188</td>\n",
       "      <td>15.113543</td>\n",
       "      <td>0.380464</td>\n",
       "      <td>0.456939</td>\n",
       "      <td>27.566427</td>\n",
       "      <td>-0.473826</td>\n",
       "      <td>-0.228116</td>\n",
       "      <td>https://www.dunkindonuts.com/en/locations</td>\n",
       "    </tr>\n",
       "    <tr>\n",
       "      <th>2</th>\n",
       "      <td>-1.542663</td>\n",
       "      <td>-1.49188</td>\n",
       "      <td>10.085784</td>\n",
       "      <td>0.770766</td>\n",
       "      <td>0.317556</td>\n",
       "      <td>18.414899</td>\n",
       "      <td>-0.436763</td>\n",
       "      <td>-0.206982</td>\n",
       "      <td>https://www.dunkindonuts.com/en/menu</td>\n",
       "    </tr>\n",
       "    <tr>\n",
       "      <th>3</th>\n",
       "      <td>-1.542663</td>\n",
       "      <td>-1.49188</td>\n",
       "      <td>15.113543</td>\n",
       "      <td>0.134928</td>\n",
       "      <td>0.255607</td>\n",
       "      <td>16.186100</td>\n",
       "      <td>-0.362637</td>\n",
       "      <td>-0.003482</td>\n",
       "      <td>https://www.dunkindonuts.com/</td>\n",
       "    </tr>\n",
       "    <tr>\n",
       "      <th>4</th>\n",
       "      <td>-1.542663</td>\n",
       "      <td>-1.49188</td>\n",
       "      <td>5.500026</td>\n",
       "      <td>0.506780</td>\n",
       "      <td>0.511144</td>\n",
       "      <td>10.067902</td>\n",
       "      <td>-0.436763</td>\n",
       "      <td>0.381404</td>\n",
       "      <td>https://www.dunkindonuts.com/</td>\n",
       "    </tr>\n",
       "  </tbody>\n",
       "</table>\n",
       "</div>"
      ],
      "text/plain": [
       "   Position  Previous position  Search Volume  Keyword Difficulty       CPC  \\\n",
       "0 -1.542663           -1.49188      50.418352            1.148294  0.436290   \n",
       "1 -1.542663           -1.49188      15.113543            0.380464  0.456939   \n",
       "2 -1.542663           -1.49188      10.085784            0.770766  0.317556   \n",
       "3 -1.542663           -1.49188      15.113543            0.134928  0.255607   \n",
       "4 -1.542663           -1.49188       5.500026            0.506780  0.511144   \n",
       "\n",
       "     Traffic  Competition  Number of Results  \\\n",
       "0  91.828251    -0.177323          -0.203623   \n",
       "1  27.566427    -0.473826          -0.228116   \n",
       "2  18.414899    -0.436763          -0.206982   \n",
       "3  16.186100    -0.362637          -0.003482   \n",
       "4  10.067902    -0.436763           0.381404   \n",
       "\n",
       "                                         URL  \n",
       "0              https://www.dunkindonuts.com/  \n",
       "1  https://www.dunkindonuts.com/en/locations  \n",
       "2       https://www.dunkindonuts.com/en/menu  \n",
       "3              https://www.dunkindonuts.com/  \n",
       "4              https://www.dunkindonuts.com/  "
      ]
     },
     "execution_count": 27,
     "metadata": {},
     "output_type": "execute_result"
    }
   ],
   "source": [
    "df_scaled.head()"
   ]
  },
  {
   "cell_type": "code",
   "execution_count": 28,
   "metadata": {},
   "outputs": [],
   "source": [
    "df_scaled.drop(columns='URL', inplace=True)"
   ]
  },
  {
   "cell_type": "code",
   "execution_count": 29,
   "metadata": {},
   "outputs": [],
   "source": [
    "X2=df_scaled.drop(columns='Position')\n",
    "y2=df_scaled['Position']"
   ]
  },
  {
   "cell_type": "code",
   "execution_count": 30,
   "metadata": {},
   "outputs": [],
   "source": [
    "#Split into test/train\n",
    "X_train2, X_test2, y_train2, y_test2= train_test_split(X2, y2, test_size=0.2, random_state=42)"
   ]
  },
  {
   "cell_type": "code",
   "execution_count": 31,
   "metadata": {},
   "outputs": [
    {
     "name": "stdout",
     "output_type": "stream",
     "text": [
      "Intercept: \n",
      " -0.000978581584977256\n",
      "Coefficients: \n",
      " [ 0.96177721  0.01754652 -0.01799402 -0.00141528 -0.01720571  0.00117578\n",
      "  0.01394046]\n"
     ]
    }
   ],
   "source": [
    "# with sklearn\n",
    "regr2 = LinearRegression()\n",
    "regr2.fit(X_train2, y_train2)\n",
    "\n",
    "print('Intercept: \\n', regr2.intercept_)\n",
    "print('Coefficients: \\n', regr2.coef_)"
   ]
  },
  {
   "cell_type": "code",
   "execution_count": 32,
   "metadata": {},
   "outputs": [],
   "source": [
    "y_pred2=regr2.predict(X_test2)"
   ]
  },
  {
   "cell_type": "code",
   "execution_count": 37,
   "metadata": {},
   "outputs": [
    {
     "data": {
      "text/plain": [
       "0.9101729847536906"
      ]
     },
     "execution_count": 37,
     "metadata": {},
     "output_type": "execute_result"
    }
   ],
   "source": [
    "explained_variance_score(y_test2, y_pred2)"
   ]
  },
  {
   "cell_type": "code",
   "execution_count": 38,
   "metadata": {},
   "outputs": [
    {
     "name": "stdout",
     "output_type": "stream",
     "text": [
      "Mean Absolute Error: 0.09 degrees.\n",
      "Accuracy: 93.02 %.\n"
     ]
    }
   ],
   "source": [
    "# Calculate the absolute errors\n",
    "errors = abs(y_pred2 - y_test2)\n",
    "# Print out the mean absolute error (mae)\n",
    "print('Mean Absolute Error:', round(np.mean(errors), 2), 'degrees.')\n",
    "# Calculate mean absolute percentage error (MAPE)\n",
    "mape = 100 * (errors / y_test2)\n",
    "# Calculate and display accuracy\n",
    "accuracy = 100 - np.mean(mape)\n",
    "print('Accuracy:', round(accuracy, 2), '%.')"
   ]
  },
  {
   "cell_type": "markdown",
   "metadata": {},
   "source": [
    "## Random Forest Regression\n",
    "Next we will try a Random Forest Regression model."
   ]
  },
  {
   "cell_type": "code",
   "execution_count": 34,
   "metadata": {},
   "outputs": [],
   "source": [
    "# Import the model we are using\n",
    "from sklearn.ensemble import RandomForestRegressor\n",
    "# Instantiate model with 1000 decision trees\n",
    "rf = RandomForestRegressor(n_estimators = 1000, random_state = 42)\n",
    "# Train the model on training data\n",
    "rf.fit(X_train2, y_train2);"
   ]
  },
  {
   "cell_type": "code",
   "execution_count": 35,
   "metadata": {},
   "outputs": [
    {
     "name": "stdout",
     "output_type": "stream",
     "text": [
      "Mean Absolute Error: 0.02 degrees.\n"
     ]
    }
   ],
   "source": [
    "# Use the forest's predict method on the test data\n",
    "predictions = rf.predict(X_test2)\n",
    "# Calculate the absolute errors\n",
    "errors = abs(predictions - y_test2)\n",
    "# Print out the mean absolute error (mae)\n",
    "print('Mean Absolute Error:', round(np.mean(errors), 2), 'degrees.')"
   ]
  },
  {
   "cell_type": "code",
   "execution_count": 36,
   "metadata": {},
   "outputs": [
    {
     "name": "stdout",
     "output_type": "stream",
     "text": [
      "Accuracy: 97.57 %.\n"
     ]
    }
   ],
   "source": [
    "# Calculate mean absolute percentage error (MAPE)\n",
    "mape = 100 * (errors / y_test2)\n",
    "# Calculate and display accuracy\n",
    "accuracy = 100 - np.mean(mape)\n",
    "print('Accuracy:', round(accuracy, 2), '%.')\n"
   ]
  },
  {
   "cell_type": "markdown",
   "metadata": {},
   "source": [
    "According to the MAE and accuracy scores, the Random Forest Regression outperformed the linear regression model. Therefore, we retain this model."
   ]
  },
  {
   "cell_type": "markdown",
   "metadata": {},
   "source": [
    "| Model | MAE | Accuracy |\n",
    "| --- | --- | --- |\n",
    "| Linear Regression (BL) | 3081993102.57 degrees | -62395689130.96 % |\n",
    "| Linear Regression 2 | .09 degrees | 93.02% |\n",
    "| Random Forest Regression | .02 degrees | 97.57% |"
   ]
  },
  {
   "cell_type": "markdown",
   "metadata": {},
   "source": [
    "## Analysis\n",
    "The winning model is the Random Forest Regression because it has the lowest MAE and highest accuracy. It also drops the URL column which appeared to be skewing the results of the first regression. This will allow us to predict the position for new keywords for Dunkin Donuts. The next step is to go on Answerthepublic and Google Keyword Planner and pull the relevant keywords and then plug the information into this model to determine which has the potential to rank highest for Dunkin. Then the MD can focus on promoting that keyword with a comprehensive SEO campaign."
   ]
  },
  {
   "cell_type": "code",
   "execution_count": null,
   "metadata": {},
   "outputs": [],
   "source": []
  }
 ],
 "metadata": {
  "kernelspec": {
   "display_name": "Python 3",
   "language": "python",
   "name": "python3"
  },
  "language_info": {
   "codemirror_mode": {
    "name": "ipython",
    "version": 3
   },
   "file_extension": ".py",
   "mimetype": "text/x-python",
   "name": "python",
   "nbconvert_exporter": "python",
   "pygments_lexer": "ipython3",
   "version": "3.7.6"
  }
 },
 "nbformat": 4,
 "nbformat_minor": 4
}
