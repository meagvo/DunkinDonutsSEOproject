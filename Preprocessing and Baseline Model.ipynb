{
 "cells": [
  {
   "cell_type": "markdown",
   "metadata": {},
   "source": [
    "## Baseline Model\n",
    "As a simple model for this predictive model, we chose multiple linear regressions. This is a conceptually basic mondel and the interpretation is relatively simple compared to other predictive models. In addition, we can apply the model to other target variables of interest as the research question develops.'\n",
    "\n",
    "In this multiple regression model, we have to preprocess the data. For continuous variables this means centering and scaling the data by the mean and standard deviation respectively, but for categorical data it includes creating dummy variables.\n",
    "\n",
    "Then we get rid of variables involving arbitrary dates, such as the timestamp. This will be difficult to handle in a regression context. \n"
   ]
  },
  {
   "cell_type": "code",
   "execution_count": 1,
   "metadata": {},
   "outputs": [],
   "source": [
    "#import relevant packages\n",
    "import numpy as np\n",
    "import pandas as pd\n",
    "import matplotlib.pyplot as plt\n",
    "import re\n",
    "from sklearn.impute import SimpleImputer\n",
    "from sklearn.linear_model import LogisticRegression\n",
    "from sklearn.metrics import classification_report, confusion_matrix\n",
    "from sklearn.preprocessing import StandardScaler\n",
    "from sklearn.model_selection import train_test_split\n",
    "%matplotlib inline\n",
    "from sklearn.linear_model import LinearRegression\n",
    "from sklearn.metrics import explained_variance_score"
   ]
  },
  {
   "cell_type": "code",
   "execution_count": 2,
   "metadata": {},
   "outputs": [],
   "source": [
    "#import data from wrangling stage\n",
    "df=pd.read_csv('data_step4.csv')"
   ]
  },
  {
   "cell_type": "code",
   "execution_count": 3,
   "metadata": {},
   "outputs": [],
   "source": [
    "df.head()\n",
    "df.drop(columns='Timestamp', inplace=True)\n"
   ]
  },
  {
   "cell_type": "code",
   "execution_count": 4,
   "metadata": {},
   "outputs": [
    {
     "data": {
      "text/html": [
       "<div>\n",
       "<style scoped>\n",
       "    .dataframe tbody tr th:only-of-type {\n",
       "        vertical-align: middle;\n",
       "    }\n",
       "\n",
       "    .dataframe tbody tr th {\n",
       "        vertical-align: top;\n",
       "    }\n",
       "\n",
       "    .dataframe thead th {\n",
       "        text-align: right;\n",
       "    }\n",
       "</style>\n",
       "<table border=\"1\" class=\"dataframe\">\n",
       "  <thead>\n",
       "    <tr style=\"text-align: right;\">\n",
       "      <th></th>\n",
       "      <th>Unnamed: 0</th>\n",
       "      <th>Keyword</th>\n",
       "      <th>Position</th>\n",
       "      <th>Previous position</th>\n",
       "      <th>Search Volume</th>\n",
       "      <th>Keyword Difficulty</th>\n",
       "      <th>CPC</th>\n",
       "      <th>URL</th>\n",
       "      <th>Traffic</th>\n",
       "      <th>Competition</th>\n",
       "      <th>Number of Results</th>\n",
       "    </tr>\n",
       "  </thead>\n",
       "  <tbody>\n",
       "    <tr>\n",
       "      <th>0</th>\n",
       "      <td>0</td>\n",
       "      <td>dunkin donuts</td>\n",
       "      <td>1</td>\n",
       "      <td>1</td>\n",
       "      <td>2740000</td>\n",
       "      <td>88.99</td>\n",
       "      <td>2.24</td>\n",
       "      <td>https://www.dunkindonuts.com/</td>\n",
       "      <td>2192000</td>\n",
       "      <td>0.09</td>\n",
       "      <td>35000000</td>\n",
       "    </tr>\n",
       "    <tr>\n",
       "      <th>1</th>\n",
       "      <td>1</td>\n",
       "      <td>dunkin donuts near me</td>\n",
       "      <td>1</td>\n",
       "      <td>1</td>\n",
       "      <td>823000</td>\n",
       "      <td>83.58</td>\n",
       "      <td>2.32</td>\n",
       "      <td>https://www.dunkindonuts.com/en/locations</td>\n",
       "      <td>658400</td>\n",
       "      <td>0.01</td>\n",
       "      <td>85</td>\n",
       "    </tr>\n",
       "    <tr>\n",
       "      <th>2</th>\n",
       "      <td>2</td>\n",
       "      <td>dunkin donuts menu</td>\n",
       "      <td>1</td>\n",
       "      <td>1</td>\n",
       "      <td>550000</td>\n",
       "      <td>86.33</td>\n",
       "      <td>1.78</td>\n",
       "      <td>https://www.dunkindonuts.com/en/menu</td>\n",
       "      <td>440000</td>\n",
       "      <td>0.02</td>\n",
       "      <td>30200000</td>\n",
       "    </tr>\n",
       "    <tr>\n",
       "      <th>3</th>\n",
       "      <td>3</td>\n",
       "      <td>donuts</td>\n",
       "      <td>1</td>\n",
       "      <td>1</td>\n",
       "      <td>823000</td>\n",
       "      <td>81.85</td>\n",
       "      <td>1.54</td>\n",
       "      <td>https://www.dunkindonuts.com/</td>\n",
       "      <td>386810</td>\n",
       "      <td>0.04</td>\n",
       "      <td>321000000</td>\n",
       "    </tr>\n",
       "    <tr>\n",
       "      <th>4</th>\n",
       "      <td>4</td>\n",
       "      <td>dd</td>\n",
       "      <td>1</td>\n",
       "      <td>1</td>\n",
       "      <td>301000</td>\n",
       "      <td>84.47</td>\n",
       "      <td>2.53</td>\n",
       "      <td>https://www.dunkindonuts.com/</td>\n",
       "      <td>240800</td>\n",
       "      <td>0.02</td>\n",
       "      <td>871000000</td>\n",
       "    </tr>\n",
       "  </tbody>\n",
       "</table>\n",
       "</div>"
      ],
      "text/plain": [
       "   Unnamed: 0                Keyword  Position  Previous position  \\\n",
       "0           0          dunkin donuts         1                  1   \n",
       "1           1  dunkin donuts near me         1                  1   \n",
       "2           2     dunkin donuts menu         1                  1   \n",
       "3           3                 donuts         1                  1   \n",
       "4           4                     dd         1                  1   \n",
       "\n",
       "   Search Volume  Keyword Difficulty   CPC  \\\n",
       "0        2740000               88.99  2.24   \n",
       "1         823000               83.58  2.32   \n",
       "2         550000               86.33  1.78   \n",
       "3         823000               81.85  1.54   \n",
       "4         301000               84.47  2.53   \n",
       "\n",
       "                                         URL  Traffic  Competition  \\\n",
       "0              https://www.dunkindonuts.com/  2192000         0.09   \n",
       "1  https://www.dunkindonuts.com/en/locations   658400         0.01   \n",
       "2       https://www.dunkindonuts.com/en/menu   440000         0.02   \n",
       "3              https://www.dunkindonuts.com/   386810         0.04   \n",
       "4              https://www.dunkindonuts.com/   240800         0.02   \n",
       "\n",
       "   Number of Results  \n",
       "0           35000000  \n",
       "1                 85  \n",
       "2           30200000  \n",
       "3          321000000  \n",
       "4          871000000  "
      ]
     },
     "execution_count": 4,
     "metadata": {},
     "output_type": "execute_result"
    }
   ],
   "source": [
    "df.head()"
   ]
  },
  {
   "cell_type": "code",
   "execution_count": 5,
   "metadata": {},
   "outputs": [
    {
     "data": {
      "text/plain": [
       "Unnamed: 0              int64\n",
       "Keyword                object\n",
       "Position                int64\n",
       "Previous position       int64\n",
       "Search Volume           int64\n",
       "Keyword Difficulty    float64\n",
       "CPC                   float64\n",
       "URL                    object\n",
       "Traffic                 int64\n",
       "Competition           float64\n",
       "Number of Results       int64\n",
       "dtype: object"
      ]
     },
     "execution_count": 5,
     "metadata": {},
     "output_type": "execute_result"
    }
   ],
   "source": [
    "df.dtypes"
   ]
  },
  {
   "cell_type": "markdown",
   "metadata": {},
   "source": [
    "Next, the keyword column will be separated because it is the label column. This will be dropped from the preprocessed data as it will not be entered into the regression model."
   ]
  },
  {
   "cell_type": "code",
   "execution_count": 6,
   "metadata": {},
   "outputs": [
    {
     "data": {
      "text/plain": [
       "Index(['Unnamed: 0', 'Position', 'Previous position', 'Search Volume',\n",
       "       'Keyword Difficulty', 'CPC', 'URL', 'Traffic', 'Competition',\n",
       "       'Number of Results'],\n",
       "      dtype='object')"
      ]
     },
     "execution_count": 6,
     "metadata": {},
     "output_type": "execute_result"
    }
   ],
   "source": [
    "df1=df.drop(columns='Keyword')\n",
    "keyword=df['Keyword']\n",
    "df1.head()\n",
    "df1.drop(columns='Unnamed: 0')\n",
    "df1.columns"
   ]
  },
  {
   "cell_type": "code",
   "execution_count": 7,
   "metadata": {},
   "outputs": [
    {
     "data": {
      "text/html": [
       "<div>\n",
       "<style scoped>\n",
       "    .dataframe tbody tr th:only-of-type {\n",
       "        vertical-align: middle;\n",
       "    }\n",
       "\n",
       "    .dataframe tbody tr th {\n",
       "        vertical-align: top;\n",
       "    }\n",
       "\n",
       "    .dataframe thead th {\n",
       "        text-align: right;\n",
       "    }\n",
       "</style>\n",
       "<table border=\"1\" class=\"dataframe\">\n",
       "  <thead>\n",
       "    <tr style=\"text-align: right;\">\n",
       "      <th></th>\n",
       "      <th>Position</th>\n",
       "      <th>Previous position</th>\n",
       "      <th>Search Volume</th>\n",
       "      <th>Keyword Difficulty</th>\n",
       "      <th>CPC</th>\n",
       "      <th>Traffic</th>\n",
       "      <th>Competition</th>\n",
       "      <th>Number of Results</th>\n",
       "    </tr>\n",
       "  </thead>\n",
       "  <tbody>\n",
       "    <tr>\n",
       "      <th>0</th>\n",
       "      <td>1</td>\n",
       "      <td>1</td>\n",
       "      <td>2740000</td>\n",
       "      <td>88.99</td>\n",
       "      <td>2.24</td>\n",
       "      <td>2192000</td>\n",
       "      <td>0.09</td>\n",
       "      <td>35000000</td>\n",
       "    </tr>\n",
       "    <tr>\n",
       "      <th>1</th>\n",
       "      <td>1</td>\n",
       "      <td>1</td>\n",
       "      <td>823000</td>\n",
       "      <td>83.58</td>\n",
       "      <td>2.32</td>\n",
       "      <td>658400</td>\n",
       "      <td>0.01</td>\n",
       "      <td>85</td>\n",
       "    </tr>\n",
       "    <tr>\n",
       "      <th>2</th>\n",
       "      <td>1</td>\n",
       "      <td>1</td>\n",
       "      <td>550000</td>\n",
       "      <td>86.33</td>\n",
       "      <td>1.78</td>\n",
       "      <td>440000</td>\n",
       "      <td>0.02</td>\n",
       "      <td>30200000</td>\n",
       "    </tr>\n",
       "    <tr>\n",
       "      <th>3</th>\n",
       "      <td>1</td>\n",
       "      <td>1</td>\n",
       "      <td>823000</td>\n",
       "      <td>81.85</td>\n",
       "      <td>1.54</td>\n",
       "      <td>386810</td>\n",
       "      <td>0.04</td>\n",
       "      <td>321000000</td>\n",
       "    </tr>\n",
       "    <tr>\n",
       "      <th>4</th>\n",
       "      <td>1</td>\n",
       "      <td>1</td>\n",
       "      <td>301000</td>\n",
       "      <td>84.47</td>\n",
       "      <td>2.53</td>\n",
       "      <td>240800</td>\n",
       "      <td>0.02</td>\n",
       "      <td>871000000</td>\n",
       "    </tr>\n",
       "  </tbody>\n",
       "</table>\n",
       "</div>"
      ],
      "text/plain": [
       "   Position  Previous position  Search Volume  Keyword Difficulty   CPC  \\\n",
       "0         1                  1        2740000               88.99  2.24   \n",
       "1         1                  1         823000               83.58  2.32   \n",
       "2         1                  1         550000               86.33  1.78   \n",
       "3         1                  1         823000               81.85  1.54   \n",
       "4         1                  1         301000               84.47  2.53   \n",
       "\n",
       "   Traffic  Competition  Number of Results  \n",
       "0  2192000         0.09           35000000  \n",
       "1   658400         0.01                 85  \n",
       "2   440000         0.02           30200000  \n",
       "3   386810         0.04          321000000  \n",
       "4   240800         0.02          871000000  "
      ]
     },
     "execution_count": 7,
     "metadata": {},
     "output_type": "execute_result"
    }
   ],
   "source": [
    "continuous_var=df1.drop(columns='URL')\n",
    "\n",
    "continuous_var.drop(columns='Unnamed: 0', inplace=True)\n",
    "continuous_var.head()\n"
   ]
  },
  {
   "cell_type": "code",
   "execution_count": 8,
   "metadata": {},
   "outputs": [
    {
     "data": {
      "text/html": [
       "<div>\n",
       "<style scoped>\n",
       "    .dataframe tbody tr th:only-of-type {\n",
       "        vertical-align: middle;\n",
       "    }\n",
       "\n",
       "    .dataframe tbody tr th {\n",
       "        vertical-align: top;\n",
       "    }\n",
       "\n",
       "    .dataframe thead th {\n",
       "        text-align: right;\n",
       "    }\n",
       "</style>\n",
       "<table border=\"1\" class=\"dataframe\">\n",
       "  <thead>\n",
       "    <tr style=\"text-align: right;\">\n",
       "      <th></th>\n",
       "      <th>Position</th>\n",
       "      <th>Previous position</th>\n",
       "      <th>Search Volume</th>\n",
       "      <th>Keyword Difficulty</th>\n",
       "      <th>CPC</th>\n",
       "      <th>Traffic</th>\n",
       "      <th>Competition</th>\n",
       "      <th>Number of Results</th>\n",
       "    </tr>\n",
       "  </thead>\n",
       "  <tbody>\n",
       "    <tr>\n",
       "      <th>0</th>\n",
       "      <td>1</td>\n",
       "      <td>1</td>\n",
       "      <td>2740000</td>\n",
       "      <td>88.99</td>\n",
       "      <td>2.24</td>\n",
       "      <td>2192000</td>\n",
       "      <td>0.09</td>\n",
       "      <td>35000000</td>\n",
       "    </tr>\n",
       "    <tr>\n",
       "      <th>1</th>\n",
       "      <td>1</td>\n",
       "      <td>1</td>\n",
       "      <td>823000</td>\n",
       "      <td>83.58</td>\n",
       "      <td>2.32</td>\n",
       "      <td>658400</td>\n",
       "      <td>0.01</td>\n",
       "      <td>85</td>\n",
       "    </tr>\n",
       "    <tr>\n",
       "      <th>2</th>\n",
       "      <td>1</td>\n",
       "      <td>1</td>\n",
       "      <td>550000</td>\n",
       "      <td>86.33</td>\n",
       "      <td>1.78</td>\n",
       "      <td>440000</td>\n",
       "      <td>0.02</td>\n",
       "      <td>30200000</td>\n",
       "    </tr>\n",
       "    <tr>\n",
       "      <th>3</th>\n",
       "      <td>1</td>\n",
       "      <td>1</td>\n",
       "      <td>823000</td>\n",
       "      <td>81.85</td>\n",
       "      <td>1.54</td>\n",
       "      <td>386810</td>\n",
       "      <td>0.04</td>\n",
       "      <td>321000000</td>\n",
       "    </tr>\n",
       "    <tr>\n",
       "      <th>4</th>\n",
       "      <td>1</td>\n",
       "      <td>1</td>\n",
       "      <td>301000</td>\n",
       "      <td>84.47</td>\n",
       "      <td>2.53</td>\n",
       "      <td>240800</td>\n",
       "      <td>0.02</td>\n",
       "      <td>871000000</td>\n",
       "    </tr>\n",
       "  </tbody>\n",
       "</table>\n",
       "</div>"
      ],
      "text/plain": [
       "   Position  Previous position  Search Volume  Keyword Difficulty   CPC  \\\n",
       "0         1                  1        2740000               88.99  2.24   \n",
       "1         1                  1         823000               83.58  2.32   \n",
       "2         1                  1         550000               86.33  1.78   \n",
       "3         1                  1         823000               81.85  1.54   \n",
       "4         1                  1         301000               84.47  2.53   \n",
       "\n",
       "   Traffic  Competition  Number of Results  \n",
       "0  2192000         0.09           35000000  \n",
       "1   658400         0.01                 85  \n",
       "2   440000         0.02           30200000  \n",
       "3   386810         0.04          321000000  \n",
       "4   240800         0.02          871000000  "
      ]
     },
     "execution_count": 8,
     "metadata": {},
     "output_type": "execute_result"
    }
   ],
   "source": [
    "cat_var=['URL']\n",
    "continuous_var.head()"
   ]
  },
  {
   "cell_type": "markdown",
   "metadata": {},
   "source": [
    "## Preprocessing\n",
    "\n",
    "The continuous variables will be scaled and centered, since many predictive models perform better when all variables have a similar average and variance. In addition, we ensure there are no missing rows or columns, which we already established. Next, the independent variables are placed in an array (x) and target variable (position) is placed in a second array (y)."
   ]
  },
  {
   "cell_type": "code",
   "execution_count": 9,
   "metadata": {},
   "outputs": [
    {
     "data": {
      "text/html": [
       "<div>\n",
       "<style scoped>\n",
       "    .dataframe tbody tr th:only-of-type {\n",
       "        vertical-align: middle;\n",
       "    }\n",
       "\n",
       "    .dataframe tbody tr th {\n",
       "        vertical-align: top;\n",
       "    }\n",
       "\n",
       "    .dataframe thead th {\n",
       "        text-align: right;\n",
       "    }\n",
       "</style>\n",
       "<table border=\"1\" class=\"dataframe\">\n",
       "  <thead>\n",
       "    <tr style=\"text-align: right;\">\n",
       "      <th></th>\n",
       "      <th>0</th>\n",
       "      <th>1</th>\n",
       "      <th>2</th>\n",
       "      <th>3</th>\n",
       "      <th>4</th>\n",
       "      <th>5</th>\n",
       "      <th>6</th>\n",
       "      <th>7</th>\n",
       "    </tr>\n",
       "  </thead>\n",
       "  <tbody>\n",
       "    <tr>\n",
       "      <th>0</th>\n",
       "      <td>-1.542663</td>\n",
       "      <td>-1.49188</td>\n",
       "      <td>50.418352</td>\n",
       "      <td>1.148294</td>\n",
       "      <td>0.436290</td>\n",
       "      <td>91.828251</td>\n",
       "      <td>-0.177323</td>\n",
       "      <td>-0.203623</td>\n",
       "    </tr>\n",
       "    <tr>\n",
       "      <th>1</th>\n",
       "      <td>-1.542663</td>\n",
       "      <td>-1.49188</td>\n",
       "      <td>15.113543</td>\n",
       "      <td>0.380464</td>\n",
       "      <td>0.456939</td>\n",
       "      <td>27.566427</td>\n",
       "      <td>-0.473826</td>\n",
       "      <td>-0.228116</td>\n",
       "    </tr>\n",
       "    <tr>\n",
       "      <th>2</th>\n",
       "      <td>-1.542663</td>\n",
       "      <td>-1.49188</td>\n",
       "      <td>10.085784</td>\n",
       "      <td>0.770766</td>\n",
       "      <td>0.317556</td>\n",
       "      <td>18.414899</td>\n",
       "      <td>-0.436763</td>\n",
       "      <td>-0.206982</td>\n",
       "    </tr>\n",
       "    <tr>\n",
       "      <th>3</th>\n",
       "      <td>-1.542663</td>\n",
       "      <td>-1.49188</td>\n",
       "      <td>15.113543</td>\n",
       "      <td>0.134928</td>\n",
       "      <td>0.255607</td>\n",
       "      <td>16.186100</td>\n",
       "      <td>-0.362637</td>\n",
       "      <td>-0.003482</td>\n",
       "    </tr>\n",
       "    <tr>\n",
       "      <th>4</th>\n",
       "      <td>-1.542663</td>\n",
       "      <td>-1.49188</td>\n",
       "      <td>5.500026</td>\n",
       "      <td>0.506780</td>\n",
       "      <td>0.511144</td>\n",
       "      <td>10.067902</td>\n",
       "      <td>-0.436763</td>\n",
       "      <td>0.381404</td>\n",
       "    </tr>\n",
       "  </tbody>\n",
       "</table>\n",
       "</div>"
      ],
      "text/plain": [
       "          0        1          2         3         4          5         6  \\\n",
       "0 -1.542663 -1.49188  50.418352  1.148294  0.436290  91.828251 -0.177323   \n",
       "1 -1.542663 -1.49188  15.113543  0.380464  0.456939  27.566427 -0.473826   \n",
       "2 -1.542663 -1.49188  10.085784  0.770766  0.317556  18.414899 -0.436763   \n",
       "3 -1.542663 -1.49188  15.113543  0.134928  0.255607  16.186100 -0.362637   \n",
       "4 -1.542663 -1.49188   5.500026  0.506780  0.511144  10.067902 -0.436763   \n",
       "\n",
       "          7  \n",
       "0 -0.203623  \n",
       "1 -0.228116  \n",
       "2 -0.206982  \n",
       "3 -0.003482  \n",
       "4  0.381404  "
      ]
     },
     "execution_count": 9,
     "metadata": {},
     "output_type": "execute_result"
    }
   ],
   "source": [
    "scaler = StandardScaler()\n",
    "df_scaled = pd.DataFrame(scaler.fit_transform(continuous_var))\n",
    "df_scaled.columns\n",
    "df_scaled.head()\n",
    "\n",
    "\n",
    "\n"
   ]
  },
  {
   "cell_type": "code",
   "execution_count": 10,
   "metadata": {},
   "outputs": [],
   "source": [
    "df_scaled.columns=[ 'Position', 'Previous position', 'Search Volume',\n",
    "       'Keyword Difficulty', 'CPC', 'Traffic', 'Competition',\n",
    "       'Number of Results']"
   ]
  },
  {
   "cell_type": "code",
   "execution_count": 11,
   "metadata": {},
   "outputs": [],
   "source": [
    "df_scaled['URL'] = df1[cat_var]"
   ]
  },
  {
   "cell_type": "code",
   "execution_count": 12,
   "metadata": {},
   "outputs": [],
   "source": [
    "df_scaled.head()\n",
    "df_new = pd.get_dummies(df_scaled,dummy_na=True)\n",
    "X=df_new.drop(columns='Position')\n",
    "y=df_new['Position']"
   ]
  },
  {
   "cell_type": "markdown",
   "metadata": {},
   "source": [
    "## Training and Testing the Model\n",
    "Next, we split the data into training and testing sets The training set will be used to cross_validate the hyperparameters for the model and the testing set will be used to validate the model.\n",
    "\n",
    "First, I will make a model with default parameters.\n"
   ]
  },
  {
   "cell_type": "code",
   "execution_count": 13,
   "metadata": {},
   "outputs": [],
   "source": [
    "#Split into test/train\n",
    "X_train, X_test, y_train, y_test= train_test_split(X, y, test_size=0.33, random_state=42)\n"
   ]
  },
  {
   "cell_type": "code",
   "execution_count": 14,
   "metadata": {},
   "outputs": [
    {
     "data": {
      "text/plain": [
       "LinearRegression()"
      ]
     },
     "execution_count": 14,
     "metadata": {},
     "output_type": "execute_result"
    }
   ],
   "source": [
    "# with sklearn\n",
    "regr = LinearRegression()\n",
    "regr.fit(X_train, y_train)\n"
   ]
  },
  {
   "cell_type": "code",
   "execution_count": 15,
   "metadata": {},
   "outputs": [],
   "source": [
    "y_pred=regr.predict(X_test)"
   ]
  },
  {
   "cell_type": "code",
   "execution_count": 16,
   "metadata": {},
   "outputs": [
    {
     "data": {
      "text/plain": [
       "-6.675009881291173e+21"
      ]
     },
     "execution_count": 16,
     "metadata": {},
     "output_type": "execute_result"
    }
   ],
   "source": [
    "explained_variance_score(y_test, y_pred)"
   ]
  },
  {
   "cell_type": "markdown",
   "metadata": {},
   "source": [
    "It looks like the URL column is skewing the model. Now lets try to drop the URL column and run the model again.\n"
   ]
  },
  {
   "cell_type": "code",
   "execution_count": 17,
   "metadata": {},
   "outputs": [
    {
     "data": {
      "text/html": [
       "<div>\n",
       "<style scoped>\n",
       "    .dataframe tbody tr th:only-of-type {\n",
       "        vertical-align: middle;\n",
       "    }\n",
       "\n",
       "    .dataframe tbody tr th {\n",
       "        vertical-align: top;\n",
       "    }\n",
       "\n",
       "    .dataframe thead th {\n",
       "        text-align: right;\n",
       "    }\n",
       "</style>\n",
       "<table border=\"1\" class=\"dataframe\">\n",
       "  <thead>\n",
       "    <tr style=\"text-align: right;\">\n",
       "      <th></th>\n",
       "      <th>Position</th>\n",
       "      <th>Previous position</th>\n",
       "      <th>Search Volume</th>\n",
       "      <th>Keyword Difficulty</th>\n",
       "      <th>CPC</th>\n",
       "      <th>Traffic</th>\n",
       "      <th>Competition</th>\n",
       "      <th>Number of Results</th>\n",
       "      <th>URL</th>\n",
       "    </tr>\n",
       "  </thead>\n",
       "  <tbody>\n",
       "    <tr>\n",
       "      <th>0</th>\n",
       "      <td>-1.542663</td>\n",
       "      <td>-1.49188</td>\n",
       "      <td>50.418352</td>\n",
       "      <td>1.148294</td>\n",
       "      <td>0.436290</td>\n",
       "      <td>91.828251</td>\n",
       "      <td>-0.177323</td>\n",
       "      <td>-0.203623</td>\n",
       "      <td>https://www.dunkindonuts.com/</td>\n",
       "    </tr>\n",
       "    <tr>\n",
       "      <th>1</th>\n",
       "      <td>-1.542663</td>\n",
       "      <td>-1.49188</td>\n",
       "      <td>15.113543</td>\n",
       "      <td>0.380464</td>\n",
       "      <td>0.456939</td>\n",
       "      <td>27.566427</td>\n",
       "      <td>-0.473826</td>\n",
       "      <td>-0.228116</td>\n",
       "      <td>https://www.dunkindonuts.com/en/locations</td>\n",
       "    </tr>\n",
       "    <tr>\n",
       "      <th>2</th>\n",
       "      <td>-1.542663</td>\n",
       "      <td>-1.49188</td>\n",
       "      <td>10.085784</td>\n",
       "      <td>0.770766</td>\n",
       "      <td>0.317556</td>\n",
       "      <td>18.414899</td>\n",
       "      <td>-0.436763</td>\n",
       "      <td>-0.206982</td>\n",
       "      <td>https://www.dunkindonuts.com/en/menu</td>\n",
       "    </tr>\n",
       "    <tr>\n",
       "      <th>3</th>\n",
       "      <td>-1.542663</td>\n",
       "      <td>-1.49188</td>\n",
       "      <td>15.113543</td>\n",
       "      <td>0.134928</td>\n",
       "      <td>0.255607</td>\n",
       "      <td>16.186100</td>\n",
       "      <td>-0.362637</td>\n",
       "      <td>-0.003482</td>\n",
       "      <td>https://www.dunkindonuts.com/</td>\n",
       "    </tr>\n",
       "    <tr>\n",
       "      <th>4</th>\n",
       "      <td>-1.542663</td>\n",
       "      <td>-1.49188</td>\n",
       "      <td>5.500026</td>\n",
       "      <td>0.506780</td>\n",
       "      <td>0.511144</td>\n",
       "      <td>10.067902</td>\n",
       "      <td>-0.436763</td>\n",
       "      <td>0.381404</td>\n",
       "      <td>https://www.dunkindonuts.com/</td>\n",
       "    </tr>\n",
       "  </tbody>\n",
       "</table>\n",
       "</div>"
      ],
      "text/plain": [
       "   Position  Previous position  Search Volume  Keyword Difficulty       CPC  \\\n",
       "0 -1.542663           -1.49188      50.418352            1.148294  0.436290   \n",
       "1 -1.542663           -1.49188      15.113543            0.380464  0.456939   \n",
       "2 -1.542663           -1.49188      10.085784            0.770766  0.317556   \n",
       "3 -1.542663           -1.49188      15.113543            0.134928  0.255607   \n",
       "4 -1.542663           -1.49188       5.500026            0.506780  0.511144   \n",
       "\n",
       "     Traffic  Competition  Number of Results  \\\n",
       "0  91.828251    -0.177323          -0.203623   \n",
       "1  27.566427    -0.473826          -0.228116   \n",
       "2  18.414899    -0.436763          -0.206982   \n",
       "3  16.186100    -0.362637          -0.003482   \n",
       "4  10.067902    -0.436763           0.381404   \n",
       "\n",
       "                                         URL  \n",
       "0              https://www.dunkindonuts.com/  \n",
       "1  https://www.dunkindonuts.com/en/locations  \n",
       "2       https://www.dunkindonuts.com/en/menu  \n",
       "3              https://www.dunkindonuts.com/  \n",
       "4              https://www.dunkindonuts.com/  "
      ]
     },
     "execution_count": 17,
     "metadata": {},
     "output_type": "execute_result"
    }
   ],
   "source": [
    "df_scaled.head()"
   ]
  },
  {
   "cell_type": "code",
   "execution_count": 18,
   "metadata": {},
   "outputs": [],
   "source": [
    "df_scaled.drop(columns='URL', inplace=True)"
   ]
  },
  {
   "cell_type": "code",
   "execution_count": 19,
   "metadata": {},
   "outputs": [],
   "source": [
    "X2=df_scaled.drop(columns='Position')\n",
    "y2=df_scaled['Position']"
   ]
  },
  {
   "cell_type": "code",
   "execution_count": 20,
   "metadata": {},
   "outputs": [],
   "source": [
    "#Split into test/train\n",
    "X_train2, X_test2, y_train2, y_test2= train_test_split(X2, y2, test_size=0.2, random_state=42)"
   ]
  },
  {
   "cell_type": "code",
   "execution_count": 21,
   "metadata": {},
   "outputs": [
    {
     "name": "stdout",
     "output_type": "stream",
     "text": [
      "Intercept: \n",
      " -0.000978581584977256\n",
      "Coefficients: \n",
      " [ 0.96177721  0.01754652 -0.01799402 -0.00141528 -0.01720571  0.00117578\n",
      "  0.01394046]\n"
     ]
    }
   ],
   "source": [
    "# with sklearn\n",
    "regr2 = LinearRegression()\n",
    "regr2.fit(X_train2, y_train2)\n",
    "\n",
    "print('Intercept: \\n', regr2.intercept_)\n",
    "print('Coefficients: \\n', regr2.coef_)"
   ]
  },
  {
   "cell_type": "code",
   "execution_count": 22,
   "metadata": {},
   "outputs": [],
   "source": [
    "y_pred2=regr2.predict(X_test2)"
   ]
  },
  {
   "cell_type": "code",
   "execution_count": 23,
   "metadata": {},
   "outputs": [
    {
     "data": {
      "text/plain": [
       "0.9101729847536906"
      ]
     },
     "execution_count": 23,
     "metadata": {},
     "output_type": "execute_result"
    }
   ],
   "source": [
    "explained_variance_score(y_test2, y_pred2)"
   ]
  },
  {
   "cell_type": "code",
   "execution_count": null,
   "metadata": {},
   "outputs": [],
   "source": []
  }
 ],
 "metadata": {
  "kernelspec": {
   "display_name": "Python 3",
   "language": "python",
   "name": "python3"
  },
  "language_info": {
   "codemirror_mode": {
    "name": "ipython",
    "version": 3
   },
   "file_extension": ".py",
   "mimetype": "text/x-python",
   "name": "python",
   "nbconvert_exporter": "python",
   "pygments_lexer": "ipython3",
   "version": "3.7.6"
  }
 },
 "nbformat": 4,
 "nbformat_minor": 4
}
