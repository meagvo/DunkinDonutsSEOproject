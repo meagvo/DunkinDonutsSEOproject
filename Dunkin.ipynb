{
 "cells": [
  {
   "cell_type": "markdown",
   "metadata": {},
   "source": [
    "# Data Wrangling - Dunkin SEO Project"
   ]
  },
  {
   "cell_type": "markdown",
   "metadata": {},
   "source": [
    "## Overview\n",
    "The marketing department (MD) at Dunkin donuts noticed that some of their keyword rankings have dropped over the past 6 months. Therefore, they are engaging in a new SEO program to focus on keywords that dropped to page two on Google. To do this, a predictive model will be developed using training data to predict the keywords that have the potential to drive the most traffic to the website. These keywords will then be focused on for a comprehensive SEO program for the next six months.\n",
    "\n",
    " The data science approach will be utilized to solve this business problem by applying a predictive model to the training data, which will include all keywords except page 2 rankings. Then the results will be applied to page 2 rankings to determine the best keywords to focus on. Success will be determined by improving keyword ranking to page one of google within one year.\n",
    " \n",
    " The Data Wrangling process will include the following steps:\n",
    " <ol><li>Loading the necessary packages</li>\n",
    "    <li>Load data</li>\n",
    "    <li> View data and metadata </li>\n",
    "    <li> Drop unnecessary columns </li></ol>\n"
   ]
  },
  {
   "cell_type": "code",
   "execution_count": null,
   "metadata": {},
   "outputs": [],
   "source": [
    "import pandas as pd\n",
    "import matplotlib.pyplot as plt\n",
    "import seaborn as sns\n",
    "import datetime\n",
    "import numpy as np"
   ]
  },
  {
   "cell_type": "code",
   "execution_count": 3,
   "metadata": {},
   "outputs": [],
   "source": [
    "# setup \n",
    "#sns.set_style(style=\"whitegrid\")\n",
    "sns.set_style('ticks')\n",
    "\n",
    "# display charts inline\n",
    "%matplotlib inline\n",
    "\n",
    "# to display all columns\n",
    "pd.set_option('display.max_columns', None)"
   ]
  },
  {
   "cell_type": "code",
   "execution_count": 4,
   "metadata": {},
   "outputs": [
    {
     "data": {
      "text/plain": [
       "Index(['Keyword', 'Position', 'Previous position', 'Search Volume',\n",
       "       'Keyword Difficulty', 'CPC', 'URL', 'Traffic', 'Traffic (%)',\n",
       "       'Traffic Cost', 'Competition', 'Number of Results', 'Trends',\n",
       "       'Timestamp', 'SERP Features by Keyword'],\n",
       "      dtype='object')"
      ]
     },
     "execution_count": 4,
     "metadata": {},
     "output_type": "execute_result"
    }
   ],
   "source": [
    "#load the data\n",
    "df=pd.read_csv('dunkin.csv')\n",
    "#look at the column names\n",
    "df.columns\n"
   ]
  },
  {
   "cell_type": "markdown",
   "metadata": {},
   "source": [
    "## First look at the data"
   ]
  },
  {
   "cell_type": "code",
   "execution_count": 5,
   "metadata": {},
   "outputs": [
    {
     "data": {
      "text/html": [
       "<div>\n",
       "<style scoped>\n",
       "    .dataframe tbody tr th:only-of-type {\n",
       "        vertical-align: middle;\n",
       "    }\n",
       "\n",
       "    .dataframe tbody tr th {\n",
       "        vertical-align: top;\n",
       "    }\n",
       "\n",
       "    .dataframe thead th {\n",
       "        text-align: right;\n",
       "    }\n",
       "</style>\n",
       "<table border=\"1\" class=\"dataframe\">\n",
       "  <thead>\n",
       "    <tr style=\"text-align: right;\">\n",
       "      <th></th>\n",
       "      <th>Keyword</th>\n",
       "      <th>Position</th>\n",
       "      <th>Previous position</th>\n",
       "      <th>Search Volume</th>\n",
       "      <th>Keyword Difficulty</th>\n",
       "      <th>CPC</th>\n",
       "      <th>URL</th>\n",
       "      <th>Traffic</th>\n",
       "      <th>Traffic (%)</th>\n",
       "      <th>Traffic Cost</th>\n",
       "      <th>Competition</th>\n",
       "      <th>Number of Results</th>\n",
       "      <th>Trends</th>\n",
       "      <th>Timestamp</th>\n",
       "      <th>SERP Features by Keyword</th>\n",
       "    </tr>\n",
       "  </thead>\n",
       "  <tbody>\n",
       "    <tr>\n",
       "      <th>0</th>\n",
       "      <td>dunkin donuts</td>\n",
       "      <td>1</td>\n",
       "      <td>1</td>\n",
       "      <td>2740000</td>\n",
       "      <td>88.99</td>\n",
       "      <td>2.24</td>\n",
       "      <td>https://www.dunkindonuts.com/</td>\n",
       "      <td>2192000</td>\n",
       "      <td>37.27</td>\n",
       "      <td>4910080</td>\n",
       "      <td>0.09</td>\n",
       "      <td>35000000</td>\n",
       "      <td>[55,45,45,45,45,55,45,45,55,55,82,100]</td>\n",
       "      <td>8/30/2020</td>\n",
       "      <td>Knowledge panel, Top stories, Image pack, Twee...</td>\n",
       "    </tr>\n",
       "    <tr>\n",
       "      <th>1</th>\n",
       "      <td>dunkin donuts near me</td>\n",
       "      <td>1</td>\n",
       "      <td>1</td>\n",
       "      <td>823000</td>\n",
       "      <td>83.58</td>\n",
       "      <td>2.32</td>\n",
       "      <td>https://www.dunkindonuts.com/en/locations</td>\n",
       "      <td>658400</td>\n",
       "      <td>11.19</td>\n",
       "      <td>1527488</td>\n",
       "      <td>0.01</td>\n",
       "      <td>85</td>\n",
       "      <td>[100,100,100,82,82,82,82,67,67,67,82,100]</td>\n",
       "      <td>8/30/2020</td>\n",
       "      <td>Local pack, Image pack, Site links, People als...</td>\n",
       "    </tr>\n",
       "    <tr>\n",
       "      <th>2</th>\n",
       "      <td>dunkin donuts menu</td>\n",
       "      <td>1</td>\n",
       "      <td>1</td>\n",
       "      <td>550000</td>\n",
       "      <td>86.33</td>\n",
       "      <td>1.78</td>\n",
       "      <td>https://www.dunkindonuts.com/en/menu</td>\n",
       "      <td>440000</td>\n",
       "      <td>7.48</td>\n",
       "      <td>783200</td>\n",
       "      <td>0.02</td>\n",
       "      <td>30200000</td>\n",
       "      <td>[55,55,55,67,67,55,55,55,55,67,82,100]</td>\n",
       "      <td>8/30/2020</td>\n",
       "      <td>Image pack, Video, FAQ</td>\n",
       "    </tr>\n",
       "    <tr>\n",
       "      <th>3</th>\n",
       "      <td>donuts</td>\n",
       "      <td>1</td>\n",
       "      <td>1</td>\n",
       "      <td>823000</td>\n",
       "      <td>81.85</td>\n",
       "      <td>1.54</td>\n",
       "      <td>https://www.dunkindonuts.com/</td>\n",
       "      <td>386810</td>\n",
       "      <td>6.57</td>\n",
       "      <td>595687</td>\n",
       "      <td>0.04</td>\n",
       "      <td>321000000</td>\n",
       "      <td>[82,82,82,82,82,67,82,82,67,67,82,100]</td>\n",
       "      <td>8/30/2020</td>\n",
       "      <td>Local pack, Top stories, Image pack, Site link...</td>\n",
       "    </tr>\n",
       "    <tr>\n",
       "      <th>4</th>\n",
       "      <td>dd</td>\n",
       "      <td>1</td>\n",
       "      <td>1</td>\n",
       "      <td>301000</td>\n",
       "      <td>84.47</td>\n",
       "      <td>2.53</td>\n",
       "      <td>https://www.dunkindonuts.com/</td>\n",
       "      <td>240800</td>\n",
       "      <td>4.09</td>\n",
       "      <td>609224</td>\n",
       "      <td>0.02</td>\n",
       "      <td>871000000</td>\n",
       "      <td>[67,67,55,55,55,67,55,55,67,67,100,82]</td>\n",
       "      <td>8/30/2020</td>\n",
       "      <td>Knowledge panel, Video Carousel, People also ask</td>\n",
       "    </tr>\n",
       "  </tbody>\n",
       "</table>\n",
       "</div>"
      ],
      "text/plain": [
       "                 Keyword  Position  Previous position  Search Volume  \\\n",
       "0          dunkin donuts         1                  1        2740000   \n",
       "1  dunkin donuts near me         1                  1         823000   \n",
       "2     dunkin donuts menu         1                  1         550000   \n",
       "3                 donuts         1                  1         823000   \n",
       "4                     dd         1                  1         301000   \n",
       "\n",
       "   Keyword Difficulty   CPC                                        URL  \\\n",
       "0               88.99  2.24              https://www.dunkindonuts.com/   \n",
       "1               83.58  2.32  https://www.dunkindonuts.com/en/locations   \n",
       "2               86.33  1.78       https://www.dunkindonuts.com/en/menu   \n",
       "3               81.85  1.54              https://www.dunkindonuts.com/   \n",
       "4               84.47  2.53              https://www.dunkindonuts.com/   \n",
       "\n",
       "   Traffic  Traffic (%)  Traffic Cost  Competition  Number of Results  \\\n",
       "0  2192000        37.27       4910080         0.09           35000000   \n",
       "1   658400        11.19       1527488         0.01                 85   \n",
       "2   440000         7.48        783200         0.02           30200000   \n",
       "3   386810         6.57        595687         0.04          321000000   \n",
       "4   240800         4.09        609224         0.02          871000000   \n",
       "\n",
       "                                      Trends  Timestamp  \\\n",
       "0     [55,45,45,45,45,55,45,45,55,55,82,100]  8/30/2020   \n",
       "1  [100,100,100,82,82,82,82,67,67,67,82,100]  8/30/2020   \n",
       "2     [55,55,55,67,67,55,55,55,55,67,82,100]  8/30/2020   \n",
       "3     [82,82,82,82,82,67,82,82,67,67,82,100]  8/30/2020   \n",
       "4     [67,67,55,55,55,67,55,55,67,67,100,82]  8/30/2020   \n",
       "\n",
       "                            SERP Features by Keyword  \n",
       "0  Knowledge panel, Top stories, Image pack, Twee...  \n",
       "1  Local pack, Image pack, Site links, People als...  \n",
       "2                             Image pack, Video, FAQ  \n",
       "3  Local pack, Top stories, Image pack, Site link...  \n",
       "4   Knowledge panel, Video Carousel, People also ask  "
      ]
     },
     "execution_count": 5,
     "metadata": {},
     "output_type": "execute_result"
    }
   ],
   "source": [
    "df.head()"
   ]
  },
  {
   "cell_type": "code",
   "execution_count": 6,
   "metadata": {},
   "outputs": [
    {
     "name": "stdout",
     "output_type": "stream",
     "text": [
      "<class 'pandas.core.frame.DataFrame'>\n",
      "RangeIndex: 10000 entries, 0 to 9999\n",
      "Data columns (total 15 columns):\n",
      " #   Column                    Non-Null Count  Dtype  \n",
      "---  ------                    --------------  -----  \n",
      " 0   Keyword                   10000 non-null  object \n",
      " 1   Position                  10000 non-null  int64  \n",
      " 2   Previous position         10000 non-null  int64  \n",
      " 3   Search Volume             10000 non-null  int64  \n",
      " 4   Keyword Difficulty        10000 non-null  float64\n",
      " 5   CPC                       10000 non-null  float64\n",
      " 6   URL                       10000 non-null  object \n",
      " 7   Traffic                   10000 non-null  int64  \n",
      " 8   Traffic (%)               10000 non-null  float64\n",
      " 9   Traffic Cost              10000 non-null  int64  \n",
      " 10  Competition               10000 non-null  float64\n",
      " 11  Number of Results         10000 non-null  int64  \n",
      " 12  Trends                    10000 non-null  object \n",
      " 13  Timestamp                 10000 non-null  object \n",
      " 14  SERP Features by Keyword  9962 non-null   object \n",
      "dtypes: float64(4), int64(6), object(5)\n",
      "memory usage: 1.1+ MB\n"
     ]
    }
   ],
   "source": [
    "#metadata 15 columns 10000 records\n",
    "\n",
    "df.info()\n",
    "#missing data for SERP Features by Keyword, but this column will be dropped because it isn't relevant for the analysis"
   ]
  },
  {
   "cell_type": "markdown",
   "metadata": {},
   "source": [
    "## Dropping Unecessary Columns"
   ]
  },
  {
   "cell_type": "markdown",
   "metadata": {},
   "source": [
    "We are interested in most of the column values, but there are a few that will not help with the present analysis. Therefore, we will drop the following two columns:\n",
    "<li> Trends </li>\n",
    "<li> SERP Features by Keyword</li>\n"
   ]
  },
  {
   "cell_type": "code",
   "execution_count": 8,
   "metadata": {},
   "outputs": [],
   "source": [
    "#drop two columns\n",
    "df.drop(df[['Trends', 'SERP Features by Keyword']], inplace=True, axis=1)\n"
   ]
  },
  {
   "cell_type": "code",
   "execution_count": 9,
   "metadata": {},
   "outputs": [
    {
     "data": {
      "text/plain": [
       "Index(['Keyword', 'Position', 'Previous position', 'Search Volume',\n",
       "       'Keyword Difficulty', 'CPC', 'URL', 'Traffic', 'Traffic (%)',\n",
       "       'Traffic Cost', 'Competition', 'Number of Results', 'Timestamp'],\n",
       "      dtype='object')"
      ]
     },
     "execution_count": 9,
     "metadata": {},
     "output_type": "execute_result"
    }
   ],
   "source": [
    "df.columns"
   ]
  },
  {
   "cell_type": "code",
   "execution_count": 11,
   "metadata": {},
   "outputs": [
    {
     "name": "stdout",
     "output_type": "stream",
     "text": [
      "<class 'pandas.core.frame.DataFrame'>\n",
      "RangeIndex: 10000 entries, 0 to 9999\n",
      "Data columns (total 13 columns):\n",
      " #   Column              Non-Null Count  Dtype  \n",
      "---  ------              --------------  -----  \n",
      " 0   Keyword             10000 non-null  object \n",
      " 1   Position            10000 non-null  int64  \n",
      " 2   Previous position   10000 non-null  int64  \n",
      " 3   Search Volume       10000 non-null  int64  \n",
      " 4   Keyword Difficulty  10000 non-null  float64\n",
      " 5   CPC                 10000 non-null  float64\n",
      " 6   URL                 10000 non-null  object \n",
      " 7   Traffic             10000 non-null  int64  \n",
      " 8   Traffic (%)         10000 non-null  float64\n",
      " 9   Traffic Cost        10000 non-null  int64  \n",
      " 10  Competition         10000 non-null  float64\n",
      " 11  Number of Results   10000 non-null  int64  \n",
      " 12  Timestamp           10000 non-null  object \n",
      "dtypes: float64(4), int64(6), object(3)\n",
      "memory usage: 1015.8+ KB\n"
     ]
    }
   ],
   "source": [
    "#no more missing data\n",
    "df.info()"
   ]
  },
  {
   "cell_type": "code",
   "execution_count": 12,
   "metadata": {},
   "outputs": [],
   "source": [
    "#save the updated data\n",
    "\n",
    "# checkpoint 3\n",
    "checkpoint_3_df = df.copy()"
   ]
  }
 ],
 "metadata": {
  "kernelspec": {
   "display_name": "Python 3",
   "language": "python",
   "name": "python3"
  },
  "language_info": {
   "codemirror_mode": {
    "name": "ipython",
    "version": 3
   },
   "file_extension": ".py",
   "mimetype": "text/x-python",
   "name": "python",
   "nbconvert_exporter": "python",
   "pygments_lexer": "ipython3",
   "version": "3.7.6"
  }
 },
 "nbformat": 4,
 "nbformat_minor": 4
}
